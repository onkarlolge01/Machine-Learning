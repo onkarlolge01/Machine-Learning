{
  "cells": [
    {
      "cell_type": "markdown",
      "metadata": {
        "id": "view-in-github",
        "colab_type": "text"
      },
      "source": [
        "<a href=\"https://colab.research.google.com/github/onkarlolge01/Machine-Learning/blob/main/Machine_Learning_Lab_onkar_lolge.ipynb\" target=\"_parent\"><img src=\"https://colab.research.google.com/assets/colab-badge.svg\" alt=\"Open In Colab\"/></a>"
      ]
    },
    {
      "cell_type": "markdown",
      "metadata": {
        "id": "AkEy86lJ4Cub"
      },
      "source": [
        "# <a name=\"0\">Machine Learning Lab\n",
        "\n",
        "Build a classfier to predict the __label__ field (substitute or not substitute) of the product substitute dataset.\n",
        "\n",
        "### Final Project Problem: Product Substitute Prediction\n",
        "\n",
        "__Problem Definition__:\n",
        "Given a pair of products, (A, B), we say that B is a \"substitute\" for A if a customer would buy B in place of A -- say, if A were out of stock.\n",
        "\n",
        "The goal of this project is to predict a substitute relationship between pairs of products. Complete the tasks in this notebook and submit your notebook via Colab  \n",
        "\n",
        "1. <a href=\"#1\">Read the datasets</a> (Given) \n",
        "2. <a href=\"#2\">Data Processing</a> (Implement)\n",
        "    * <a href=\"#21\">Exploratory Data Analysis</a>\n",
        "    * <a href=\"#22\">Select features to build the model</a> (Suggested)\n",
        "    * <a href=\"#23\">Train - Validation - Test Datasets</a>\n",
        "    * <a href=\"#24\">Data Processing with Pipeline</a>\n",
        "3. <a href=\"#3\">Train (and Tune) a Classifier on the Training Dataset</a> (Implement)\n",
        "4. <a href=\"#3\">Make Predictions on the Test Dataset</a> (Implement)\n",
        "\n",
        "\n",
        "__Datasets and Files:__\n",
        "\n",
        "\n",
        "* __training.csv__: Training data with product pair features and corresponding labels:\n",
        "> - `ID:` ID of the record\n",
        "> - `label:` Tells whether the key and candidate products are substitutes (1) or not (0).\n",
        "> - `key_asin ...:` Key product ASIN features \n",
        "> - `cand_asin ...:` Candidate product ASIN features \n",
        "\n",
        "\n",
        "* __public_test_features.csv__: Test data with product pairs features __without__ labels:\n",
        "> - `ID:` ID of the record\n",
        "> - `key_asin ...:` Key product ASIN features \n",
        "> - `cand_asin ...:` Candidate product ASIN features \n",
        "\n",
        "\n",
        "* __metadata-dataset.xlsx__: Provides detailed information about all key_ and cand_ columns in the training and test sets. Try to select some useful features to include in the model, as not all of them are suitable. `|Region Id|MarketPlace Id|ASIN|Binding Code|binding_description|brand_code|case_pack_quantity|, ...`\n"
      ]
    },
    {
      "cell_type": "markdown",
      "metadata": {
        "id": "ubosr2Nq4Cuf"
      },
      "source": [
        "## 1. <a name=\"1\">Read the datasets</a> (Given)\n",
        "(<a href=\"#0\">Go to top</a>)\n",
        "</br>\n",
        "<a href=\"https://propensity-labs-screening.s3.amazonaws.com/machine_learning/ml_data.zip\">Download Dataset</a>"
      ]
    },
    {
      "cell_type": "markdown",
      "metadata": {
        "id": "sCyv5Vff4Cuf"
      },
      "source": [
        "Then, we read the __training__ and __test__ datasets into dataframes"
      ]
    },
    {
      "cell_type": "code",
      "execution_count": 1,
      "metadata": {
        "id": "NHrP_vOn4Cuf",
        "colab": {
          "base_uri": "https://localhost:8080/"
        },
        "outputId": "bdd5021b-d77c-48b1-b6a1-ed812358fa9d"
      },
      "outputs": [
        {
          "output_type": "stream",
          "name": "stderr",
          "text": [
            "<ipython-input-1-0ea4c249788e>:2: DtypeWarning: Columns (22,26,34,41,66,79,80,88,99,129,134,139,147,154,156,157,179,194,201,212,213,214,221) have mixed types. Specify dtype option on import or set low_memory=False.\n",
            "  df_train=pd.read_csv('training.csv')\n",
            "<ipython-input-1-0ea4c249788e>:3: DtypeWarning: Columns (21,25,33,40,87,107,133,138,146,153,178,191,192,200,211,220) have mixed types. Specify dtype option on import or set low_memory=False.\n",
            "  df_test=pd.read_csv('public_test_features.csv')\n"
          ]
        }
      ],
      "source": [
        "import pandas as pd\n",
        "df_train=pd.read_csv('training.csv')\n",
        "df_test=pd.read_csv('public_test_features.csv')"
      ]
    },
    {
      "cell_type": "code",
      "source": [
        "df_train.head()"
      ],
      "metadata": {
        "colab": {
          "base_uri": "https://localhost:8080/",
          "height": 317
        },
        "id": "QeHjEbYMZ36n",
        "outputId": "8a5a7ea1-cc3a-4cbc-99f5-306fe8b0d3b0"
      },
      "execution_count": 2,
      "outputs": [
        {
          "output_type": "execute_result",
          "data": {
            "text/plain": [
              "      ID  label  key_Region Id  key_MarketPlace Id    key_ASIN  \\\n",
              "0  34016      0              1                   1  B00YCZ6IKA   \n",
              "1   3581      0              1                   1  B00U25WT7A   \n",
              "2  36025      1              1                   1  B011BZ3GXU   \n",
              "3  42061      1              1                   1  B0089XDG3I   \n",
              "4  14628      1              1                   1  B014UTSBZW   \n",
              "\n",
              "       key_Binding Code key_binding_description key_brand_code  \\\n",
              "0               kitchen                 Kitchen          NICLW   \n",
              "1        office_product          Office Product            NaN   \n",
              "2  consumer_electronics             Electronics            NaN   \n",
              "3                    pc      Personal Computers            NaN   \n",
              "4         miscellaneous                   Misc.          ZUKC7   \n",
              "\n",
              "   key_case_pack_quantity key_classification_code  ... cand_pkg_weight  \\\n",
              "0                     NaN            base_product  ...        0.529104   \n",
              "1                     NaN            base_product  ...        0.100000   \n",
              "2                     NaN            base_product  ...        0.654773   \n",
              "3                     NaN            base_product  ...        3.549442   \n",
              "4                     1.0            base_product  ...        0.396832   \n",
              "\n",
              "  cand_pkg_weight_uom  cand_pkg_width cand_release_date_embargo_level  \\\n",
              "0              pounds        5.118110                             NaN   \n",
              "1              pounds        4.500000                             NaN   \n",
              "2              pounds        3.937008                             NaN   \n",
              "3              pounds       10.314961                             NaN   \n",
              "4              pounds        5.196850                             NaN   \n",
              "\n",
              "  cand_dw_creation_date cand_dw_last_updated cand_is_deleted  \\\n",
              "0             18-Apr-13            14-Oct-17               N   \n",
              "1             19-May-16            21-Mar-18               N   \n",
              "2             10-Dec-15            16-Feb-18               N   \n",
              "3             19-Oct-12            15-Feb-18               N   \n",
              "4             26-Jul-12             9-Mar-18               N   \n",
              "\n",
              "  cand_last_updated cand_version  cand_external_testing_certification  \n",
              "0         13-Oct-17       2867.0                                  NaN  \n",
              "1         20-Mar-18         65.0                                  NaN  \n",
              "2         15-Feb-18       1532.0                                  NaN  \n",
              "3         14-Feb-18      13964.0                                  NaN  \n",
              "4          9-Mar-18       1253.0                                  NaN  \n",
              "\n",
              "[5 rows x 228 columns]"
            ],
            "text/html": [
              "\n",
              "  <div id=\"df-47eb8f71-f669-4b41-ab16-417fef78b583\">\n",
              "    <div class=\"colab-df-container\">\n",
              "      <div>\n",
              "<style scoped>\n",
              "    .dataframe tbody tr th:only-of-type {\n",
              "        vertical-align: middle;\n",
              "    }\n",
              "\n",
              "    .dataframe tbody tr th {\n",
              "        vertical-align: top;\n",
              "    }\n",
              "\n",
              "    .dataframe thead th {\n",
              "        text-align: right;\n",
              "    }\n",
              "</style>\n",
              "<table border=\"1\" class=\"dataframe\">\n",
              "  <thead>\n",
              "    <tr style=\"text-align: right;\">\n",
              "      <th></th>\n",
              "      <th>ID</th>\n",
              "      <th>label</th>\n",
              "      <th>key_Region Id</th>\n",
              "      <th>key_MarketPlace Id</th>\n",
              "      <th>key_ASIN</th>\n",
              "      <th>key_Binding Code</th>\n",
              "      <th>key_binding_description</th>\n",
              "      <th>key_brand_code</th>\n",
              "      <th>key_case_pack_quantity</th>\n",
              "      <th>key_classification_code</th>\n",
              "      <th>...</th>\n",
              "      <th>cand_pkg_weight</th>\n",
              "      <th>cand_pkg_weight_uom</th>\n",
              "      <th>cand_pkg_width</th>\n",
              "      <th>cand_release_date_embargo_level</th>\n",
              "      <th>cand_dw_creation_date</th>\n",
              "      <th>cand_dw_last_updated</th>\n",
              "      <th>cand_is_deleted</th>\n",
              "      <th>cand_last_updated</th>\n",
              "      <th>cand_version</th>\n",
              "      <th>cand_external_testing_certification</th>\n",
              "    </tr>\n",
              "  </thead>\n",
              "  <tbody>\n",
              "    <tr>\n",
              "      <th>0</th>\n",
              "      <td>34016</td>\n",
              "      <td>0</td>\n",
              "      <td>1</td>\n",
              "      <td>1</td>\n",
              "      <td>B00YCZ6IKA</td>\n",
              "      <td>kitchen</td>\n",
              "      <td>Kitchen</td>\n",
              "      <td>NICLW</td>\n",
              "      <td>NaN</td>\n",
              "      <td>base_product</td>\n",
              "      <td>...</td>\n",
              "      <td>0.529104</td>\n",
              "      <td>pounds</td>\n",
              "      <td>5.118110</td>\n",
              "      <td>NaN</td>\n",
              "      <td>18-Apr-13</td>\n",
              "      <td>14-Oct-17</td>\n",
              "      <td>N</td>\n",
              "      <td>13-Oct-17</td>\n",
              "      <td>2867.0</td>\n",
              "      <td>NaN</td>\n",
              "    </tr>\n",
              "    <tr>\n",
              "      <th>1</th>\n",
              "      <td>3581</td>\n",
              "      <td>0</td>\n",
              "      <td>1</td>\n",
              "      <td>1</td>\n",
              "      <td>B00U25WT7A</td>\n",
              "      <td>office_product</td>\n",
              "      <td>Office Product</td>\n",
              "      <td>NaN</td>\n",
              "      <td>NaN</td>\n",
              "      <td>base_product</td>\n",
              "      <td>...</td>\n",
              "      <td>0.100000</td>\n",
              "      <td>pounds</td>\n",
              "      <td>4.500000</td>\n",
              "      <td>NaN</td>\n",
              "      <td>19-May-16</td>\n",
              "      <td>21-Mar-18</td>\n",
              "      <td>N</td>\n",
              "      <td>20-Mar-18</td>\n",
              "      <td>65.0</td>\n",
              "      <td>NaN</td>\n",
              "    </tr>\n",
              "    <tr>\n",
              "      <th>2</th>\n",
              "      <td>36025</td>\n",
              "      <td>1</td>\n",
              "      <td>1</td>\n",
              "      <td>1</td>\n",
              "      <td>B011BZ3GXU</td>\n",
              "      <td>consumer_electronics</td>\n",
              "      <td>Electronics</td>\n",
              "      <td>NaN</td>\n",
              "      <td>NaN</td>\n",
              "      <td>base_product</td>\n",
              "      <td>...</td>\n",
              "      <td>0.654773</td>\n",
              "      <td>pounds</td>\n",
              "      <td>3.937008</td>\n",
              "      <td>NaN</td>\n",
              "      <td>10-Dec-15</td>\n",
              "      <td>16-Feb-18</td>\n",
              "      <td>N</td>\n",
              "      <td>15-Feb-18</td>\n",
              "      <td>1532.0</td>\n",
              "      <td>NaN</td>\n",
              "    </tr>\n",
              "    <tr>\n",
              "      <th>3</th>\n",
              "      <td>42061</td>\n",
              "      <td>1</td>\n",
              "      <td>1</td>\n",
              "      <td>1</td>\n",
              "      <td>B0089XDG3I</td>\n",
              "      <td>pc</td>\n",
              "      <td>Personal Computers</td>\n",
              "      <td>NaN</td>\n",
              "      <td>NaN</td>\n",
              "      <td>base_product</td>\n",
              "      <td>...</td>\n",
              "      <td>3.549442</td>\n",
              "      <td>pounds</td>\n",
              "      <td>10.314961</td>\n",
              "      <td>NaN</td>\n",
              "      <td>19-Oct-12</td>\n",
              "      <td>15-Feb-18</td>\n",
              "      <td>N</td>\n",
              "      <td>14-Feb-18</td>\n",
              "      <td>13964.0</td>\n",
              "      <td>NaN</td>\n",
              "    </tr>\n",
              "    <tr>\n",
              "      <th>4</th>\n",
              "      <td>14628</td>\n",
              "      <td>1</td>\n",
              "      <td>1</td>\n",
              "      <td>1</td>\n",
              "      <td>B014UTSBZW</td>\n",
              "      <td>miscellaneous</td>\n",
              "      <td>Misc.</td>\n",
              "      <td>ZUKC7</td>\n",
              "      <td>1.0</td>\n",
              "      <td>base_product</td>\n",
              "      <td>...</td>\n",
              "      <td>0.396832</td>\n",
              "      <td>pounds</td>\n",
              "      <td>5.196850</td>\n",
              "      <td>NaN</td>\n",
              "      <td>26-Jul-12</td>\n",
              "      <td>9-Mar-18</td>\n",
              "      <td>N</td>\n",
              "      <td>9-Mar-18</td>\n",
              "      <td>1253.0</td>\n",
              "      <td>NaN</td>\n",
              "    </tr>\n",
              "  </tbody>\n",
              "</table>\n",
              "<p>5 rows × 228 columns</p>\n",
              "</div>\n",
              "      <button class=\"colab-df-convert\" onclick=\"convertToInteractive('df-47eb8f71-f669-4b41-ab16-417fef78b583')\"\n",
              "              title=\"Convert this dataframe to an interactive table.\"\n",
              "              style=\"display:none;\">\n",
              "        \n",
              "  <svg xmlns=\"http://www.w3.org/2000/svg\" height=\"24px\"viewBox=\"0 0 24 24\"\n",
              "       width=\"24px\">\n",
              "    <path d=\"M0 0h24v24H0V0z\" fill=\"none\"/>\n",
              "    <path d=\"M18.56 5.44l.94 2.06.94-2.06 2.06-.94-2.06-.94-.94-2.06-.94 2.06-2.06.94zm-11 1L8.5 8.5l.94-2.06 2.06-.94-2.06-.94L8.5 2.5l-.94 2.06-2.06.94zm10 10l.94 2.06.94-2.06 2.06-.94-2.06-.94-.94-2.06-.94 2.06-2.06.94z\"/><path d=\"M17.41 7.96l-1.37-1.37c-.4-.4-.92-.59-1.43-.59-.52 0-1.04.2-1.43.59L10.3 9.45l-7.72 7.72c-.78.78-.78 2.05 0 2.83L4 21.41c.39.39.9.59 1.41.59.51 0 1.02-.2 1.41-.59l7.78-7.78 2.81-2.81c.8-.78.8-2.07 0-2.86zM5.41 20L4 18.59l7.72-7.72 1.47 1.35L5.41 20z\"/>\n",
              "  </svg>\n",
              "      </button>\n",
              "      \n",
              "  <style>\n",
              "    .colab-df-container {\n",
              "      display:flex;\n",
              "      flex-wrap:wrap;\n",
              "      gap: 12px;\n",
              "    }\n",
              "\n",
              "    .colab-df-convert {\n",
              "      background-color: #E8F0FE;\n",
              "      border: none;\n",
              "      border-radius: 50%;\n",
              "      cursor: pointer;\n",
              "      display: none;\n",
              "      fill: #1967D2;\n",
              "      height: 32px;\n",
              "      padding: 0 0 0 0;\n",
              "      width: 32px;\n",
              "    }\n",
              "\n",
              "    .colab-df-convert:hover {\n",
              "      background-color: #E2EBFA;\n",
              "      box-shadow: 0px 1px 2px rgba(60, 64, 67, 0.3), 0px 1px 3px 1px rgba(60, 64, 67, 0.15);\n",
              "      fill: #174EA6;\n",
              "    }\n",
              "\n",
              "    [theme=dark] .colab-df-convert {\n",
              "      background-color: #3B4455;\n",
              "      fill: #D2E3FC;\n",
              "    }\n",
              "\n",
              "    [theme=dark] .colab-df-convert:hover {\n",
              "      background-color: #434B5C;\n",
              "      box-shadow: 0px 1px 3px 1px rgba(0, 0, 0, 0.15);\n",
              "      filter: drop-shadow(0px 1px 2px rgba(0, 0, 0, 0.3));\n",
              "      fill: #FFFFFF;\n",
              "    }\n",
              "  </style>\n",
              "\n",
              "      <script>\n",
              "        const buttonEl =\n",
              "          document.querySelector('#df-47eb8f71-f669-4b41-ab16-417fef78b583 button.colab-df-convert');\n",
              "        buttonEl.style.display =\n",
              "          google.colab.kernel.accessAllowed ? 'block' : 'none';\n",
              "\n",
              "        async function convertToInteractive(key) {\n",
              "          const element = document.querySelector('#df-47eb8f71-f669-4b41-ab16-417fef78b583');\n",
              "          const dataTable =\n",
              "            await google.colab.kernel.invokeFunction('convertToInteractive',\n",
              "                                                     [key], {});\n",
              "          if (!dataTable) return;\n",
              "\n",
              "          const docLinkHtml = 'Like what you see? Visit the ' +\n",
              "            '<a target=\"_blank\" href=https://colab.research.google.com/notebooks/data_table.ipynb>data table notebook</a>'\n",
              "            + ' to learn more about interactive tables.';\n",
              "          element.innerHTML = '';\n",
              "          dataTable['output_type'] = 'display_data';\n",
              "          await google.colab.output.renderOutput(dataTable, element);\n",
              "          const docLink = document.createElement('div');\n",
              "          docLink.innerHTML = docLinkHtml;\n",
              "          element.appendChild(docLink);\n",
              "        }\n",
              "      </script>\n",
              "    </div>\n",
              "  </div>\n",
              "  "
            ]
          },
          "metadata": {},
          "execution_count": 2
        }
      ]
    },
    {
      "cell_type": "code",
      "source": [
        "df_test.head()"
      ],
      "metadata": {
        "colab": {
          "base_uri": "https://localhost:8080/",
          "height": 317
        },
        "id": "D74aJq9UaVob",
        "outputId": "dbaf64e7-e087-4e95-ab83-23b1a98c5417"
      },
      "execution_count": 7,
      "outputs": [
        {
          "output_type": "execute_result",
          "data": {
            "text/plain": [
              "      ID  key_Region Id  key_MarketPlace Id    key_ASIN  \\\n",
              "0  35057              1                   1  B0096M8VR2   \n",
              "1  41573              1                   1  B00EAQJCWW   \n",
              "2  44029              1                   1  B013P93YOQ   \n",
              "3   6462              1                   1  B00SKJPKGW   \n",
              "4  17533              1                   1  B001DCEKXM   \n",
              "\n",
              "           key_Binding Code   key_binding_description key_brand_code  \\\n",
              "0                        pc        Personal Computers            NaN   \n",
              "1                   kitchen                   Kitchen          BUNN9   \n",
              "2                       toy                       Toy            NaN   \n",
              "3  wireless_phone_accessory  Wireless Phone Accessory          PIQ22   \n",
              "4                    sports                    Sports          SUUNR   \n",
              "\n",
              "   key_case_pack_quantity key_classification_code  \\\n",
              "0                     1.0            base_product   \n",
              "1                     2.0            base_product   \n",
              "2                     NaN            base_product   \n",
              "3                     1.0            base_product   \n",
              "4                     1.0            base_product   \n",
              "\n",
              "  key_classification_description  ... cand_pkg_weight  cand_pkg_weight_uom  \\\n",
              "0                   Base Product  ...        0.925932               pounds   \n",
              "1                   Base Product  ...             NaN                  NaN   \n",
              "2                   Base Product  ...             NaN                  NaN   \n",
              "3                   Base Product  ...        6.250000               pounds   \n",
              "4                   Base Product  ...        0.176368               pounds   \n",
              "\n",
              "  cand_pkg_width cand_release_date_embargo_level cand_dw_creation_date  \\\n",
              "0       5.826772                             NaN             10-Apr-13   \n",
              "1            NaN                             NaN             17-Mar-16   \n",
              "2            NaN                             NaN             23-Dec-15   \n",
              "3       9.700000                             NaN             22-Jan-15   \n",
              "4       3.228346                             NaN              4-Jan-11   \n",
              "\n",
              "  cand_dw_last_updated cand_is_deleted cand_last_updated  cand_version  \\\n",
              "0             5-Jul-16               N          4-Jul-16         699.0   \n",
              "1            17-Mar-16               N         17-Mar-16           2.0   \n",
              "2             2-Dec-17               N          2-Dec-17          17.0   \n",
              "3            18-Jan-17               N         18-Jan-17       25351.0   \n",
              "4            16-Nov-17               N         16-Nov-17        7424.0   \n",
              "\n",
              "   cand_external_testing_certification  \n",
              "0                                  NaN  \n",
              "1                                  NaN  \n",
              "2                                  NaN  \n",
              "3                                  NaN  \n",
              "4                                  NaN  \n",
              "\n",
              "[5 rows x 227 columns]"
            ],
            "text/html": [
              "\n",
              "  <div id=\"df-8e3da503-8840-491d-9f0a-e7c8a674ee67\">\n",
              "    <div class=\"colab-df-container\">\n",
              "      <div>\n",
              "<style scoped>\n",
              "    .dataframe tbody tr th:only-of-type {\n",
              "        vertical-align: middle;\n",
              "    }\n",
              "\n",
              "    .dataframe tbody tr th {\n",
              "        vertical-align: top;\n",
              "    }\n",
              "\n",
              "    .dataframe thead th {\n",
              "        text-align: right;\n",
              "    }\n",
              "</style>\n",
              "<table border=\"1\" class=\"dataframe\">\n",
              "  <thead>\n",
              "    <tr style=\"text-align: right;\">\n",
              "      <th></th>\n",
              "      <th>ID</th>\n",
              "      <th>key_Region Id</th>\n",
              "      <th>key_MarketPlace Id</th>\n",
              "      <th>key_ASIN</th>\n",
              "      <th>key_Binding Code</th>\n",
              "      <th>key_binding_description</th>\n",
              "      <th>key_brand_code</th>\n",
              "      <th>key_case_pack_quantity</th>\n",
              "      <th>key_classification_code</th>\n",
              "      <th>key_classification_description</th>\n",
              "      <th>...</th>\n",
              "      <th>cand_pkg_weight</th>\n",
              "      <th>cand_pkg_weight_uom</th>\n",
              "      <th>cand_pkg_width</th>\n",
              "      <th>cand_release_date_embargo_level</th>\n",
              "      <th>cand_dw_creation_date</th>\n",
              "      <th>cand_dw_last_updated</th>\n",
              "      <th>cand_is_deleted</th>\n",
              "      <th>cand_last_updated</th>\n",
              "      <th>cand_version</th>\n",
              "      <th>cand_external_testing_certification</th>\n",
              "    </tr>\n",
              "  </thead>\n",
              "  <tbody>\n",
              "    <tr>\n",
              "      <th>0</th>\n",
              "      <td>35057</td>\n",
              "      <td>1</td>\n",
              "      <td>1</td>\n",
              "      <td>B0096M8VR2</td>\n",
              "      <td>pc</td>\n",
              "      <td>Personal Computers</td>\n",
              "      <td>NaN</td>\n",
              "      <td>1.0</td>\n",
              "      <td>base_product</td>\n",
              "      <td>Base Product</td>\n",
              "      <td>...</td>\n",
              "      <td>0.925932</td>\n",
              "      <td>pounds</td>\n",
              "      <td>5.826772</td>\n",
              "      <td>NaN</td>\n",
              "      <td>10-Apr-13</td>\n",
              "      <td>5-Jul-16</td>\n",
              "      <td>N</td>\n",
              "      <td>4-Jul-16</td>\n",
              "      <td>699.0</td>\n",
              "      <td>NaN</td>\n",
              "    </tr>\n",
              "    <tr>\n",
              "      <th>1</th>\n",
              "      <td>41573</td>\n",
              "      <td>1</td>\n",
              "      <td>1</td>\n",
              "      <td>B00EAQJCWW</td>\n",
              "      <td>kitchen</td>\n",
              "      <td>Kitchen</td>\n",
              "      <td>BUNN9</td>\n",
              "      <td>2.0</td>\n",
              "      <td>base_product</td>\n",
              "      <td>Base Product</td>\n",
              "      <td>...</td>\n",
              "      <td>NaN</td>\n",
              "      <td>NaN</td>\n",
              "      <td>NaN</td>\n",
              "      <td>NaN</td>\n",
              "      <td>17-Mar-16</td>\n",
              "      <td>17-Mar-16</td>\n",
              "      <td>N</td>\n",
              "      <td>17-Mar-16</td>\n",
              "      <td>2.0</td>\n",
              "      <td>NaN</td>\n",
              "    </tr>\n",
              "    <tr>\n",
              "      <th>2</th>\n",
              "      <td>44029</td>\n",
              "      <td>1</td>\n",
              "      <td>1</td>\n",
              "      <td>B013P93YOQ</td>\n",
              "      <td>toy</td>\n",
              "      <td>Toy</td>\n",
              "      <td>NaN</td>\n",
              "      <td>NaN</td>\n",
              "      <td>base_product</td>\n",
              "      <td>Base Product</td>\n",
              "      <td>...</td>\n",
              "      <td>NaN</td>\n",
              "      <td>NaN</td>\n",
              "      <td>NaN</td>\n",
              "      <td>NaN</td>\n",
              "      <td>23-Dec-15</td>\n",
              "      <td>2-Dec-17</td>\n",
              "      <td>N</td>\n",
              "      <td>2-Dec-17</td>\n",
              "      <td>17.0</td>\n",
              "      <td>NaN</td>\n",
              "    </tr>\n",
              "    <tr>\n",
              "      <th>3</th>\n",
              "      <td>6462</td>\n",
              "      <td>1</td>\n",
              "      <td>1</td>\n",
              "      <td>B00SKJPKGW</td>\n",
              "      <td>wireless_phone_accessory</td>\n",
              "      <td>Wireless Phone Accessory</td>\n",
              "      <td>PIQ22</td>\n",
              "      <td>1.0</td>\n",
              "      <td>base_product</td>\n",
              "      <td>Base Product</td>\n",
              "      <td>...</td>\n",
              "      <td>6.250000</td>\n",
              "      <td>pounds</td>\n",
              "      <td>9.700000</td>\n",
              "      <td>NaN</td>\n",
              "      <td>22-Jan-15</td>\n",
              "      <td>18-Jan-17</td>\n",
              "      <td>N</td>\n",
              "      <td>18-Jan-17</td>\n",
              "      <td>25351.0</td>\n",
              "      <td>NaN</td>\n",
              "    </tr>\n",
              "    <tr>\n",
              "      <th>4</th>\n",
              "      <td>17533</td>\n",
              "      <td>1</td>\n",
              "      <td>1</td>\n",
              "      <td>B001DCEKXM</td>\n",
              "      <td>sports</td>\n",
              "      <td>Sports</td>\n",
              "      <td>SUUNR</td>\n",
              "      <td>1.0</td>\n",
              "      <td>base_product</td>\n",
              "      <td>Base Product</td>\n",
              "      <td>...</td>\n",
              "      <td>0.176368</td>\n",
              "      <td>pounds</td>\n",
              "      <td>3.228346</td>\n",
              "      <td>NaN</td>\n",
              "      <td>4-Jan-11</td>\n",
              "      <td>16-Nov-17</td>\n",
              "      <td>N</td>\n",
              "      <td>16-Nov-17</td>\n",
              "      <td>7424.0</td>\n",
              "      <td>NaN</td>\n",
              "    </tr>\n",
              "  </tbody>\n",
              "</table>\n",
              "<p>5 rows × 227 columns</p>\n",
              "</div>\n",
              "      <button class=\"colab-df-convert\" onclick=\"convertToInteractive('df-8e3da503-8840-491d-9f0a-e7c8a674ee67')\"\n",
              "              title=\"Convert this dataframe to an interactive table.\"\n",
              "              style=\"display:none;\">\n",
              "        \n",
              "  <svg xmlns=\"http://www.w3.org/2000/svg\" height=\"24px\"viewBox=\"0 0 24 24\"\n",
              "       width=\"24px\">\n",
              "    <path d=\"M0 0h24v24H0V0z\" fill=\"none\"/>\n",
              "    <path d=\"M18.56 5.44l.94 2.06.94-2.06 2.06-.94-2.06-.94-.94-2.06-.94 2.06-2.06.94zm-11 1L8.5 8.5l.94-2.06 2.06-.94-2.06-.94L8.5 2.5l-.94 2.06-2.06.94zm10 10l.94 2.06.94-2.06 2.06-.94-2.06-.94-.94-2.06-.94 2.06-2.06.94z\"/><path d=\"M17.41 7.96l-1.37-1.37c-.4-.4-.92-.59-1.43-.59-.52 0-1.04.2-1.43.59L10.3 9.45l-7.72 7.72c-.78.78-.78 2.05 0 2.83L4 21.41c.39.39.9.59 1.41.59.51 0 1.02-.2 1.41-.59l7.78-7.78 2.81-2.81c.8-.78.8-2.07 0-2.86zM5.41 20L4 18.59l7.72-7.72 1.47 1.35L5.41 20z\"/>\n",
              "  </svg>\n",
              "      </button>\n",
              "      \n",
              "  <style>\n",
              "    .colab-df-container {\n",
              "      display:flex;\n",
              "      flex-wrap:wrap;\n",
              "      gap: 12px;\n",
              "    }\n",
              "\n",
              "    .colab-df-convert {\n",
              "      background-color: #E8F0FE;\n",
              "      border: none;\n",
              "      border-radius: 50%;\n",
              "      cursor: pointer;\n",
              "      display: none;\n",
              "      fill: #1967D2;\n",
              "      height: 32px;\n",
              "      padding: 0 0 0 0;\n",
              "      width: 32px;\n",
              "    }\n",
              "\n",
              "    .colab-df-convert:hover {\n",
              "      background-color: #E2EBFA;\n",
              "      box-shadow: 0px 1px 2px rgba(60, 64, 67, 0.3), 0px 1px 3px 1px rgba(60, 64, 67, 0.15);\n",
              "      fill: #174EA6;\n",
              "    }\n",
              "\n",
              "    [theme=dark] .colab-df-convert {\n",
              "      background-color: #3B4455;\n",
              "      fill: #D2E3FC;\n",
              "    }\n",
              "\n",
              "    [theme=dark] .colab-df-convert:hover {\n",
              "      background-color: #434B5C;\n",
              "      box-shadow: 0px 1px 3px 1px rgba(0, 0, 0, 0.15);\n",
              "      filter: drop-shadow(0px 1px 2px rgba(0, 0, 0, 0.3));\n",
              "      fill: #FFFFFF;\n",
              "    }\n",
              "  </style>\n",
              "\n",
              "      <script>\n",
              "        const buttonEl =\n",
              "          document.querySelector('#df-8e3da503-8840-491d-9f0a-e7c8a674ee67 button.colab-df-convert');\n",
              "        buttonEl.style.display =\n",
              "          google.colab.kernel.accessAllowed ? 'block' : 'none';\n",
              "\n",
              "        async function convertToInteractive(key) {\n",
              "          const element = document.querySelector('#df-8e3da503-8840-491d-9f0a-e7c8a674ee67');\n",
              "          const dataTable =\n",
              "            await google.colab.kernel.invokeFunction('convertToInteractive',\n",
              "                                                     [key], {});\n",
              "          if (!dataTable) return;\n",
              "\n",
              "          const docLinkHtml = 'Like what you see? Visit the ' +\n",
              "            '<a target=\"_blank\" href=https://colab.research.google.com/notebooks/data_table.ipynb>data table notebook</a>'\n",
              "            + ' to learn more about interactive tables.';\n",
              "          element.innerHTML = '';\n",
              "          dataTable['output_type'] = 'display_data';\n",
              "          await google.colab.output.renderOutput(dataTable, element);\n",
              "          const docLink = document.createElement('div');\n",
              "          docLink.innerHTML = docLinkHtml;\n",
              "          element.appendChild(docLink);\n",
              "        }\n",
              "      </script>\n",
              "    </div>\n",
              "  </div>\n",
              "  "
            ]
          },
          "metadata": {},
          "execution_count": 7
        }
      ]
    },
    {
      "cell_type": "markdown",
      "metadata": {
        "id": "NukXQipp4Cul"
      },
      "source": [
        "## 2. <a name=\"2\">Data Processing</a> (Implement)\n",
        "(<a href=\"#0\">Go to top</a>) \n",
        "\n",
        "### 2.1 <a name=\"21\">Exploratory Data Analysis</a>\n",
        "\n",
        "We look at number of rows, columns, and some simple statistics of the datasets."
      ]
    },
    {
      "cell_type": "code",
      "execution_count": 5,
      "metadata": {
        "id": "5AETRVq44Cum",
        "colab": {
          "base_uri": "https://localhost:8080/"
        },
        "outputId": "fff480b7-1d79-42e9-9afa-d5498db37df2"
      },
      "outputs": [
        {
          "output_type": "execute_result",
          "data": {
            "text/plain": [
              "(8282, 228)"
            ]
          },
          "metadata": {},
          "execution_count": 5
        }
      ],
      "source": [
        "# Implement EDA here\n",
        "df_train.shape"
      ]
    },
    {
      "cell_type": "code",
      "source": [
        "df_test.shape"
      ],
      "metadata": {
        "colab": {
          "base_uri": "https://localhost:8080/"
        },
        "id": "yKb6hpEO2mj-",
        "outputId": "2a3d169d-1ccf-4e22-8f6a-2b3f4b4abd10"
      },
      "execution_count": 60,
      "outputs": [
        {
          "output_type": "execute_result",
          "data": {
            "text/plain": [
              "(8291, 227)"
            ]
          },
          "metadata": {},
          "execution_count": 60
        }
      ]
    },
    {
      "cell_type": "code",
      "source": [
        "df_train.info()"
      ],
      "metadata": {
        "colab": {
          "base_uri": "https://localhost:8080/"
        },
        "id": "jBhDeTOjdqwT",
        "outputId": "53f273da-3eda-4b67-d3c4-841d45c532c6"
      },
      "execution_count": 12,
      "outputs": [
        {
          "output_type": "stream",
          "name": "stdout",
          "text": [
            "<class 'pandas.core.frame.DataFrame'>\n",
            "RangeIndex: 8282 entries, 0 to 8281\n",
            "Columns: 228 entries, ID to cand_external_testing_certification\n",
            "dtypes: float64(91), int64(11), object(126)\n",
            "memory usage: 14.4+ MB\n"
          ]
        }
      ]
    },
    {
      "cell_type": "code",
      "source": [
        "df_train.describe()"
      ],
      "metadata": {
        "colab": {
          "base_uri": "https://localhost:8080/",
          "height": 411
        },
        "id": "740re660dq-l",
        "outputId": "6ac6e917-9aeb-4be1-c6d9-1c3aaeaff0a8"
      },
      "execution_count": 13,
      "outputs": [
        {
          "output_type": "execute_result",
          "data": {
            "text/plain": [
              "                 ID        label  key_Region Id  key_MarketPlace Id  \\\n",
              "count   8282.000000  8282.000000         8282.0              8282.0   \n",
              "mean   26184.437213     0.506882            1.0                 1.0   \n",
              "std    15185.880921     0.499983            0.0                 0.0   \n",
              "min        2.000000     0.000000            1.0                 1.0   \n",
              "25%    12904.000000     0.000000            1.0                 1.0   \n",
              "50%    26153.000000     1.000000            1.0                 1.0   \n",
              "75%    39271.750000     1.000000            1.0                 1.0   \n",
              "max    52574.000000     1.000000            1.0                 1.0   \n",
              "\n",
              "       key_case_pack_quantity  key_country_of_origin  key_discontinued_date  \\\n",
              "count             3654.000000                    0.0                    0.0   \n",
              "mean                 8.573344                    NaN                    NaN   \n",
              "std                 58.391811                    NaN                    NaN   \n",
              "min                  0.000000                    NaN                    NaN   \n",
              "25%                  1.000000                    NaN                    NaN   \n",
              "50%                  1.000000                    NaN                    NaN   \n",
              "75%                  6.000000                    NaN                    NaN   \n",
              "max               1700.000000                    NaN                    NaN   \n",
              "\n",
              "            key_ean  key_excluded_direct_browse_node_id  key_fedas_id  ...  \\\n",
              "count  7.565000e+03                        2.254000e+03           6.0  ...   \n",
              "mean   1.728247e+12                        1.975758e+09      100954.0  ...   \n",
              "std    2.428709e+12                        3.588923e+09           0.0  ...   \n",
              "min    1.427901e+07                        1.722820e+05      100954.0  ...   \n",
              "25%    6.473360e+11                        1.064954e+06      100954.0  ...   \n",
              "50%    7.571840e+11                        1.657930e+08      100954.0  ...   \n",
              "75%    8.822250e+11                        2.611212e+09      100954.0  ...   \n",
              "max    9.825480e+12                        1.634073e+10      100954.0  ...   \n",
              "\n",
              "       cand_recall_notice_receive_date  cand_unit_count      cand_upc  \\\n",
              "count                              0.0      1048.000000  6.113000e+03   \n",
              "mean                               NaN        31.552672  6.164237e+11   \n",
              "std                                NaN       132.072530  2.795363e+11   \n",
              "min                                NaN         0.000000  3.459928e+06   \n",
              "25%                                NaN         1.000000  6.122510e+11   \n",
              "50%                                NaN         1.000000  7.148340e+11   \n",
              "75%                                NaN        12.000000  7.939510e+11   \n",
              "max                                NaN      3000.000000  9.999950e+11   \n",
              "\n",
              "       cand_variation_theme_id  cand_video_game_region  cand_pkg_height  \\\n",
              "count              3234.000000                4.000000      6598.000000   \n",
              "mean                 35.931045                2.000000         3.499324   \n",
              "std                  84.236682                1.154701         3.873965   \n",
              "min                   1.000000                1.000000         0.000000   \n",
              "25%                   2.000000                1.000000         1.100000   \n",
              "50%                   8.000000                2.000000         2.400000   \n",
              "75%                  24.000000                3.000000         4.300000   \n",
              "max                1437.000000                3.000000        74.000000   \n",
              "\n",
              "       cand_pkg_length  cand_pkg_weight  cand_pkg_width   cand_version  \n",
              "count      6598.000000      6549.000000     6597.000000    8281.000000  \n",
              "mean         12.645653         5.709448        7.740606   11810.321217  \n",
              "std          11.608593        19.820081        6.206534   77002.176266  \n",
              "min           0.000000         0.000000        0.000000       2.000000  \n",
              "25%           6.300000         0.249122        3.900000      54.000000  \n",
              "50%           9.200000         0.750000        5.900000     194.000000  \n",
              "75%          14.300000         2.780000       10.000000    1142.000000  \n",
              "max         163.000000       429.000000       97.000000  635453.000000  \n",
              "\n",
              "[8 rows x 102 columns]"
            ],
            "text/html": [
              "\n",
              "  <div id=\"df-7245a997-dda3-450a-a1f3-285365b88ee7\">\n",
              "    <div class=\"colab-df-container\">\n",
              "      <div>\n",
              "<style scoped>\n",
              "    .dataframe tbody tr th:only-of-type {\n",
              "        vertical-align: middle;\n",
              "    }\n",
              "\n",
              "    .dataframe tbody tr th {\n",
              "        vertical-align: top;\n",
              "    }\n",
              "\n",
              "    .dataframe thead th {\n",
              "        text-align: right;\n",
              "    }\n",
              "</style>\n",
              "<table border=\"1\" class=\"dataframe\">\n",
              "  <thead>\n",
              "    <tr style=\"text-align: right;\">\n",
              "      <th></th>\n",
              "      <th>ID</th>\n",
              "      <th>label</th>\n",
              "      <th>key_Region Id</th>\n",
              "      <th>key_MarketPlace Id</th>\n",
              "      <th>key_case_pack_quantity</th>\n",
              "      <th>key_country_of_origin</th>\n",
              "      <th>key_discontinued_date</th>\n",
              "      <th>key_ean</th>\n",
              "      <th>key_excluded_direct_browse_node_id</th>\n",
              "      <th>key_fedas_id</th>\n",
              "      <th>...</th>\n",
              "      <th>cand_recall_notice_receive_date</th>\n",
              "      <th>cand_unit_count</th>\n",
              "      <th>cand_upc</th>\n",
              "      <th>cand_variation_theme_id</th>\n",
              "      <th>cand_video_game_region</th>\n",
              "      <th>cand_pkg_height</th>\n",
              "      <th>cand_pkg_length</th>\n",
              "      <th>cand_pkg_weight</th>\n",
              "      <th>cand_pkg_width</th>\n",
              "      <th>cand_version</th>\n",
              "    </tr>\n",
              "  </thead>\n",
              "  <tbody>\n",
              "    <tr>\n",
              "      <th>count</th>\n",
              "      <td>8282.000000</td>\n",
              "      <td>8282.000000</td>\n",
              "      <td>8282.0</td>\n",
              "      <td>8282.0</td>\n",
              "      <td>3654.000000</td>\n",
              "      <td>0.0</td>\n",
              "      <td>0.0</td>\n",
              "      <td>7.565000e+03</td>\n",
              "      <td>2.254000e+03</td>\n",
              "      <td>6.0</td>\n",
              "      <td>...</td>\n",
              "      <td>0.0</td>\n",
              "      <td>1048.000000</td>\n",
              "      <td>6.113000e+03</td>\n",
              "      <td>3234.000000</td>\n",
              "      <td>4.000000</td>\n",
              "      <td>6598.000000</td>\n",
              "      <td>6598.000000</td>\n",
              "      <td>6549.000000</td>\n",
              "      <td>6597.000000</td>\n",
              "      <td>8281.000000</td>\n",
              "    </tr>\n",
              "    <tr>\n",
              "      <th>mean</th>\n",
              "      <td>26184.437213</td>\n",
              "      <td>0.506882</td>\n",
              "      <td>1.0</td>\n",
              "      <td>1.0</td>\n",
              "      <td>8.573344</td>\n",
              "      <td>NaN</td>\n",
              "      <td>NaN</td>\n",
              "      <td>1.728247e+12</td>\n",
              "      <td>1.975758e+09</td>\n",
              "      <td>100954.0</td>\n",
              "      <td>...</td>\n",
              "      <td>NaN</td>\n",
              "      <td>31.552672</td>\n",
              "      <td>6.164237e+11</td>\n",
              "      <td>35.931045</td>\n",
              "      <td>2.000000</td>\n",
              "      <td>3.499324</td>\n",
              "      <td>12.645653</td>\n",
              "      <td>5.709448</td>\n",
              "      <td>7.740606</td>\n",
              "      <td>11810.321217</td>\n",
              "    </tr>\n",
              "    <tr>\n",
              "      <th>std</th>\n",
              "      <td>15185.880921</td>\n",
              "      <td>0.499983</td>\n",
              "      <td>0.0</td>\n",
              "      <td>0.0</td>\n",
              "      <td>58.391811</td>\n",
              "      <td>NaN</td>\n",
              "      <td>NaN</td>\n",
              "      <td>2.428709e+12</td>\n",
              "      <td>3.588923e+09</td>\n",
              "      <td>0.0</td>\n",
              "      <td>...</td>\n",
              "      <td>NaN</td>\n",
              "      <td>132.072530</td>\n",
              "      <td>2.795363e+11</td>\n",
              "      <td>84.236682</td>\n",
              "      <td>1.154701</td>\n",
              "      <td>3.873965</td>\n",
              "      <td>11.608593</td>\n",
              "      <td>19.820081</td>\n",
              "      <td>6.206534</td>\n",
              "      <td>77002.176266</td>\n",
              "    </tr>\n",
              "    <tr>\n",
              "      <th>min</th>\n",
              "      <td>2.000000</td>\n",
              "      <td>0.000000</td>\n",
              "      <td>1.0</td>\n",
              "      <td>1.0</td>\n",
              "      <td>0.000000</td>\n",
              "      <td>NaN</td>\n",
              "      <td>NaN</td>\n",
              "      <td>1.427901e+07</td>\n",
              "      <td>1.722820e+05</td>\n",
              "      <td>100954.0</td>\n",
              "      <td>...</td>\n",
              "      <td>NaN</td>\n",
              "      <td>0.000000</td>\n",
              "      <td>3.459928e+06</td>\n",
              "      <td>1.000000</td>\n",
              "      <td>1.000000</td>\n",
              "      <td>0.000000</td>\n",
              "      <td>0.000000</td>\n",
              "      <td>0.000000</td>\n",
              "      <td>0.000000</td>\n",
              "      <td>2.000000</td>\n",
              "    </tr>\n",
              "    <tr>\n",
              "      <th>25%</th>\n",
              "      <td>12904.000000</td>\n",
              "      <td>0.000000</td>\n",
              "      <td>1.0</td>\n",
              "      <td>1.0</td>\n",
              "      <td>1.000000</td>\n",
              "      <td>NaN</td>\n",
              "      <td>NaN</td>\n",
              "      <td>6.473360e+11</td>\n",
              "      <td>1.064954e+06</td>\n",
              "      <td>100954.0</td>\n",
              "      <td>...</td>\n",
              "      <td>NaN</td>\n",
              "      <td>1.000000</td>\n",
              "      <td>6.122510e+11</td>\n",
              "      <td>2.000000</td>\n",
              "      <td>1.000000</td>\n",
              "      <td>1.100000</td>\n",
              "      <td>6.300000</td>\n",
              "      <td>0.249122</td>\n",
              "      <td>3.900000</td>\n",
              "      <td>54.000000</td>\n",
              "    </tr>\n",
              "    <tr>\n",
              "      <th>50%</th>\n",
              "      <td>26153.000000</td>\n",
              "      <td>1.000000</td>\n",
              "      <td>1.0</td>\n",
              "      <td>1.0</td>\n",
              "      <td>1.000000</td>\n",
              "      <td>NaN</td>\n",
              "      <td>NaN</td>\n",
              "      <td>7.571840e+11</td>\n",
              "      <td>1.657930e+08</td>\n",
              "      <td>100954.0</td>\n",
              "      <td>...</td>\n",
              "      <td>NaN</td>\n",
              "      <td>1.000000</td>\n",
              "      <td>7.148340e+11</td>\n",
              "      <td>8.000000</td>\n",
              "      <td>2.000000</td>\n",
              "      <td>2.400000</td>\n",
              "      <td>9.200000</td>\n",
              "      <td>0.750000</td>\n",
              "      <td>5.900000</td>\n",
              "      <td>194.000000</td>\n",
              "    </tr>\n",
              "    <tr>\n",
              "      <th>75%</th>\n",
              "      <td>39271.750000</td>\n",
              "      <td>1.000000</td>\n",
              "      <td>1.0</td>\n",
              "      <td>1.0</td>\n",
              "      <td>6.000000</td>\n",
              "      <td>NaN</td>\n",
              "      <td>NaN</td>\n",
              "      <td>8.822250e+11</td>\n",
              "      <td>2.611212e+09</td>\n",
              "      <td>100954.0</td>\n",
              "      <td>...</td>\n",
              "      <td>NaN</td>\n",
              "      <td>12.000000</td>\n",
              "      <td>7.939510e+11</td>\n",
              "      <td>24.000000</td>\n",
              "      <td>3.000000</td>\n",
              "      <td>4.300000</td>\n",
              "      <td>14.300000</td>\n",
              "      <td>2.780000</td>\n",
              "      <td>10.000000</td>\n",
              "      <td>1142.000000</td>\n",
              "    </tr>\n",
              "    <tr>\n",
              "      <th>max</th>\n",
              "      <td>52574.000000</td>\n",
              "      <td>1.000000</td>\n",
              "      <td>1.0</td>\n",
              "      <td>1.0</td>\n",
              "      <td>1700.000000</td>\n",
              "      <td>NaN</td>\n",
              "      <td>NaN</td>\n",
              "      <td>9.825480e+12</td>\n",
              "      <td>1.634073e+10</td>\n",
              "      <td>100954.0</td>\n",
              "      <td>...</td>\n",
              "      <td>NaN</td>\n",
              "      <td>3000.000000</td>\n",
              "      <td>9.999950e+11</td>\n",
              "      <td>1437.000000</td>\n",
              "      <td>3.000000</td>\n",
              "      <td>74.000000</td>\n",
              "      <td>163.000000</td>\n",
              "      <td>429.000000</td>\n",
              "      <td>97.000000</td>\n",
              "      <td>635453.000000</td>\n",
              "    </tr>\n",
              "  </tbody>\n",
              "</table>\n",
              "<p>8 rows × 102 columns</p>\n",
              "</div>\n",
              "      <button class=\"colab-df-convert\" onclick=\"convertToInteractive('df-7245a997-dda3-450a-a1f3-285365b88ee7')\"\n",
              "              title=\"Convert this dataframe to an interactive table.\"\n",
              "              style=\"display:none;\">\n",
              "        \n",
              "  <svg xmlns=\"http://www.w3.org/2000/svg\" height=\"24px\"viewBox=\"0 0 24 24\"\n",
              "       width=\"24px\">\n",
              "    <path d=\"M0 0h24v24H0V0z\" fill=\"none\"/>\n",
              "    <path d=\"M18.56 5.44l.94 2.06.94-2.06 2.06-.94-2.06-.94-.94-2.06-.94 2.06-2.06.94zm-11 1L8.5 8.5l.94-2.06 2.06-.94-2.06-.94L8.5 2.5l-.94 2.06-2.06.94zm10 10l.94 2.06.94-2.06 2.06-.94-2.06-.94-.94-2.06-.94 2.06-2.06.94z\"/><path d=\"M17.41 7.96l-1.37-1.37c-.4-.4-.92-.59-1.43-.59-.52 0-1.04.2-1.43.59L10.3 9.45l-7.72 7.72c-.78.78-.78 2.05 0 2.83L4 21.41c.39.39.9.59 1.41.59.51 0 1.02-.2 1.41-.59l7.78-7.78 2.81-2.81c.8-.78.8-2.07 0-2.86zM5.41 20L4 18.59l7.72-7.72 1.47 1.35L5.41 20z\"/>\n",
              "  </svg>\n",
              "      </button>\n",
              "      \n",
              "  <style>\n",
              "    .colab-df-container {\n",
              "      display:flex;\n",
              "      flex-wrap:wrap;\n",
              "      gap: 12px;\n",
              "    }\n",
              "\n",
              "    .colab-df-convert {\n",
              "      background-color: #E8F0FE;\n",
              "      border: none;\n",
              "      border-radius: 50%;\n",
              "      cursor: pointer;\n",
              "      display: none;\n",
              "      fill: #1967D2;\n",
              "      height: 32px;\n",
              "      padding: 0 0 0 0;\n",
              "      width: 32px;\n",
              "    }\n",
              "\n",
              "    .colab-df-convert:hover {\n",
              "      background-color: #E2EBFA;\n",
              "      box-shadow: 0px 1px 2px rgba(60, 64, 67, 0.3), 0px 1px 3px 1px rgba(60, 64, 67, 0.15);\n",
              "      fill: #174EA6;\n",
              "    }\n",
              "\n",
              "    [theme=dark] .colab-df-convert {\n",
              "      background-color: #3B4455;\n",
              "      fill: #D2E3FC;\n",
              "    }\n",
              "\n",
              "    [theme=dark] .colab-df-convert:hover {\n",
              "      background-color: #434B5C;\n",
              "      box-shadow: 0px 1px 3px 1px rgba(0, 0, 0, 0.15);\n",
              "      filter: drop-shadow(0px 1px 2px rgba(0, 0, 0, 0.3));\n",
              "      fill: #FFFFFF;\n",
              "    }\n",
              "  </style>\n",
              "\n",
              "      <script>\n",
              "        const buttonEl =\n",
              "          document.querySelector('#df-7245a997-dda3-450a-a1f3-285365b88ee7 button.colab-df-convert');\n",
              "        buttonEl.style.display =\n",
              "          google.colab.kernel.accessAllowed ? 'block' : 'none';\n",
              "\n",
              "        async function convertToInteractive(key) {\n",
              "          const element = document.querySelector('#df-7245a997-dda3-450a-a1f3-285365b88ee7');\n",
              "          const dataTable =\n",
              "            await google.colab.kernel.invokeFunction('convertToInteractive',\n",
              "                                                     [key], {});\n",
              "          if (!dataTable) return;\n",
              "\n",
              "          const docLinkHtml = 'Like what you see? Visit the ' +\n",
              "            '<a target=\"_blank\" href=https://colab.research.google.com/notebooks/data_table.ipynb>data table notebook</a>'\n",
              "            + ' to learn more about interactive tables.';\n",
              "          element.innerHTML = '';\n",
              "          dataTable['output_type'] = 'display_data';\n",
              "          await google.colab.output.renderOutput(dataTable, element);\n",
              "          const docLink = document.createElement('div');\n",
              "          docLink.innerHTML = docLinkHtml;\n",
              "          element.appendChild(docLink);\n",
              "        }\n",
              "      </script>\n",
              "    </div>\n",
              "  </div>\n",
              "  "
            ]
          },
          "metadata": {},
          "execution_count": 13
        }
      ]
    },
    {
      "cell_type": "code",
      "source": [
        "df_train['label'].value_counts()"
      ],
      "metadata": {
        "colab": {
          "base_uri": "https://localhost:8080/"
        },
        "id": "7bWoqKNqF3iq",
        "outputId": "e8a77256-863e-4578-cdf8-ff38bf0d8175"
      },
      "execution_count": 67,
      "outputs": [
        {
          "output_type": "execute_result",
          "data": {
            "text/plain": [
              "1    4198\n",
              "0    4084\n",
              "Name: label, dtype: int64"
            ]
          },
          "metadata": {},
          "execution_count": 67
        }
      ]
    },
    {
      "cell_type": "code",
      "source": [
        "list(df_train.columns)"
      ],
      "metadata": {
        "colab": {
          "base_uri": "https://localhost:8080/"
        },
        "id": "pVw4qjSjbvCs",
        "outputId": "5705531a-cee4-450d-ecb9-1fd798a6514a"
      },
      "execution_count": 11,
      "outputs": [
        {
          "output_type": "execute_result",
          "data": {
            "text/plain": [
              "['ID',\n",
              " 'label',\n",
              " 'key_Region Id',\n",
              " 'key_MarketPlace Id',\n",
              " 'key_ASIN',\n",
              " 'key_Binding Code',\n",
              " 'key_binding_description',\n",
              " 'key_brand_code',\n",
              " 'key_case_pack_quantity',\n",
              " 'key_classification_code',\n",
              " 'key_classification_description',\n",
              " 'key_color_map',\n",
              " 'key_country_of_origin',\n",
              " 'key_cpsia_cautionary_statement',\n",
              " 'key_creation_date',\n",
              " 'key_currency_code',\n",
              " 'key_customer_return_method',\n",
              " 'key_customer_return_policy',\n",
              " 'key_delivery_option',\n",
              " 'key_discontinued_date',\n",
              " 'key_ean',\n",
              " 'key_esrb_age_rating',\n",
              " 'key_esrb_descriptors',\n",
              " 'key_excluded_direct_browse_node_id',\n",
              " 'key_fedas_id',\n",
              " 'key_fma_qualified_price_max',\n",
              " 'key_fma_override',\n",
              " 'key_Product Group Code',\n",
              " 'key_Product Group Description',\n",
              " 'key_has_ean',\n",
              " 'key_has_online_play',\n",
              " 'key_has_platform',\n",
              " 'key_has_recommended_browse_nodes',\n",
              " 'key_has_upc',\n",
              " 'key_inner_package_type',\n",
              " 'key_is_adult_product',\n",
              " 'key_is_advantage',\n",
              " 'key_is_certified_organic',\n",
              " 'key_is_conveyable',\n",
              " 'key_is_discontinued',\n",
              " 'key_is_manufacture_on_demand',\n",
              " 'key_is_phone_upgradeable',\n",
              " 'key_Is Sortable',\n",
              " 'key_is_super_saver_shipping_excl',\n",
              " 'key_isbn',\n",
              " 'key_item_classification_id',\n",
              " 'key_item_display_diameter',\n",
              " 'key_item_display_height',\n",
              " 'key_item_display_length',\n",
              " 'key_item_display_length_uom',\n",
              " 'key_item_display_volume',\n",
              " 'key_item_display_volume_uom',\n",
              " 'key_item_display_weight',\n",
              " 'key_item_display_weight_uom',\n",
              " 'key_item_display_width',\n",
              " 'key_item_height',\n",
              " 'key_item_length',\n",
              " 'key_item_name',\n",
              " 'key_item_package_quantity',\n",
              " 'key_item_weight',\n",
              " 'key_item_width',\n",
              " 'key_language_code',\n",
              " 'key_manufacturer_name',\n",
              " 'key_manufacturer_sku',\n",
              " 'key_manufacturer_vendor_code',\n",
              " 'key_max_weight_recommendation',\n",
              " 'key_mfg_series_number',\n",
              " 'key_min_weight_recommendation',\n",
              " 'key_model_number',\n",
              " 'key_monthly_recurring_charge',\n",
              " 'key_number_of_items',\n",
              " 'key_number_of_licenses',\n",
              " 'key_number_of_pages',\n",
              " 'key_number_of_points',\n",
              " 'key_ordering_channel',\n",
              " 'key_preferred_vendor',\n",
              " 'key_product_sample_received_day',\n",
              " 'key_product_type',\n",
              " 'key_product_type_id',\n",
              " 'key_program_member',\n",
              " 'key_program_member_code',\n",
              " 'key_publication_date',\n",
              " 'key_publication_day',\n",
              " 'key_publication_month',\n",
              " 'key_publication_year',\n",
              " 'key_publisher',\n",
              " 'key_publisher_code',\n",
              " 'key_publisher_studio_label',\n",
              " 'key_recall_description',\n",
              " 'key_recall_external_identifier',\n",
              " 'key_recall_notice_expiration_date',\n",
              " 'key_recall_notice_publication_date',\n",
              " 'key_recall_notice_receive_date',\n",
              " 'key_target_gender',\n",
              " 'key_unit_count',\n",
              " 'key_upc',\n",
              " 'key_variation_theme_description',\n",
              " 'key_variation_theme_id',\n",
              " 'key_video_game_region',\n",
              " 'key_video_game_region_description',\n",
              " 'key_wireless_provider',\n",
              " 'key_wireless_provider_code',\n",
              " 'key_pkg_dimensional_uom',\n",
              " 'key_pkg_height',\n",
              " 'key_pkg_length',\n",
              " 'key_pkg_weight',\n",
              " 'key_pkg_weight_uom',\n",
              " 'key_pkg_width',\n",
              " 'key_release_date_embargo_level',\n",
              " 'key_dw_creation_date',\n",
              " 'key_dw_last_updated',\n",
              " 'key_is_deleted',\n",
              " 'key_last_updated',\n",
              " 'key_version',\n",
              " 'key_external_testing_certification',\n",
              " 'cand_Region Id',\n",
              " 'cand_MarketPlace Id',\n",
              " 'cand_ASIN',\n",
              " 'cand_Binding Code',\n",
              " 'cand_binding_description',\n",
              " 'cand_brand_code',\n",
              " 'cand_case_pack_quantity',\n",
              " 'cand_classification_code',\n",
              " 'cand_classification_description',\n",
              " 'cand_color_map',\n",
              " 'cand_country_of_origin',\n",
              " 'cand_cpsia_cautionary_statement',\n",
              " 'cand_creation_date',\n",
              " 'cand_currency_code',\n",
              " 'cand_customer_return_method',\n",
              " 'cand_customer_return_policy',\n",
              " 'cand_delivery_option',\n",
              " 'cand_discontinued_date',\n",
              " 'cand_ean',\n",
              " 'cand_esrb_age_rating',\n",
              " 'cand_esrb_descriptors',\n",
              " 'cand_excluded_direct_browse_node_id',\n",
              " 'cand_fedas_id',\n",
              " 'cand_fma_qualified_price_max',\n",
              " 'cand_fma_override',\n",
              " 'cand_Product Group Code',\n",
              " 'cand_Product Group Description',\n",
              " 'cand_has_ean',\n",
              " 'cand_has_online_play',\n",
              " 'cand_has_platform',\n",
              " 'cand_has_recommended_browse_nodes',\n",
              " 'cand_has_upc',\n",
              " 'cand_inner_package_type',\n",
              " 'cand_is_adult_product',\n",
              " 'cand_is_advantage',\n",
              " 'cand_is_certified_organic',\n",
              " 'cand_is_conveyable',\n",
              " 'cand_is_discontinued',\n",
              " 'cand_is_manufacture_on_demand',\n",
              " 'cand_is_phone_upgradeable',\n",
              " 'cand_Is Sortable',\n",
              " 'cand_is_super_saver_shipping_excl',\n",
              " 'cand_isbn',\n",
              " 'cand_item_classification_id',\n",
              " 'cand_item_display_diameter',\n",
              " 'cand_item_display_height',\n",
              " 'cand_item_display_length',\n",
              " 'cand_item_display_length_uom',\n",
              " 'cand_item_display_volume',\n",
              " 'cand_item_display_volume_uom',\n",
              " 'cand_item_display_weight',\n",
              " 'cand_item_display_weight_uom',\n",
              " 'cand_item_display_width',\n",
              " 'cand_item_height',\n",
              " 'cand_item_length',\n",
              " 'cand_item_name',\n",
              " 'cand_item_package_quantity',\n",
              " 'cand_item_weight',\n",
              " 'cand_item_width',\n",
              " 'cand_language_code',\n",
              " 'cand_manufacturer_name',\n",
              " 'cand_manufacturer_sku',\n",
              " 'cand_manufacturer_vendor_code',\n",
              " 'cand_max_weight_recommendation',\n",
              " 'cand_mfg_series_number',\n",
              " 'cand_min_weight_recommendation',\n",
              " 'cand_model_number',\n",
              " 'cand_monthly_recurring_charge',\n",
              " 'cand_number_of_items',\n",
              " 'cand_number_of_licenses',\n",
              " 'cand_number_of_pages',\n",
              " 'cand_number_of_points',\n",
              " 'cand_ordering_channel',\n",
              " 'cand_preferred_vendor',\n",
              " 'cand_product_sample_received_day',\n",
              " 'cand_product_type',\n",
              " 'cand_product_type_id',\n",
              " 'cand_program_member',\n",
              " 'cand_program_member_code',\n",
              " 'cand_publication_date',\n",
              " 'cand_publication_day',\n",
              " 'cand_publication_month',\n",
              " 'cand_publication_year',\n",
              " 'cand_publisher',\n",
              " 'cand_publisher_code',\n",
              " 'cand_publisher_studio_label',\n",
              " 'cand_recall_description',\n",
              " 'cand_recall_external_identifier',\n",
              " 'cand_recall_notice_expiration_date',\n",
              " 'cand_recall_notice_publication_date',\n",
              " 'cand_recall_notice_receive_date',\n",
              " 'cand_target_gender',\n",
              " 'cand_unit_count',\n",
              " 'cand_upc',\n",
              " 'cand_variation_theme_description',\n",
              " 'cand_variation_theme_id',\n",
              " 'cand_video_game_region',\n",
              " 'cand_video_game_region_description',\n",
              " 'cand_wireless_provider',\n",
              " 'cand_wireless_provider_code',\n",
              " 'cand_pkg_dimensional_uom',\n",
              " 'cand_pkg_height',\n",
              " 'cand_pkg_length',\n",
              " 'cand_pkg_weight',\n",
              " 'cand_pkg_weight_uom',\n",
              " 'cand_pkg_width',\n",
              " 'cand_release_date_embargo_level',\n",
              " 'cand_dw_creation_date',\n",
              " 'cand_dw_last_updated',\n",
              " 'cand_is_deleted',\n",
              " 'cand_last_updated',\n",
              " 'cand_version',\n",
              " 'cand_external_testing_certification']"
            ]
          },
          "metadata": {},
          "execution_count": 11
        }
      ]
    },
    {
      "cell_type": "code",
      "source": [
        "df_train.isna().sum()"
      ],
      "metadata": {
        "colab": {
          "base_uri": "https://localhost:8080/"
        },
        "id": "FqtWjCUhazU6",
        "outputId": "d204f462-75e3-473f-b873-4950b5f8d992"
      },
      "execution_count": 6,
      "outputs": [
        {
          "output_type": "execute_result",
          "data": {
            "text/plain": [
              "ID                                        0\n",
              "label                                     0\n",
              "key_Region Id                             0\n",
              "key_MarketPlace Id                        0\n",
              "key_ASIN                                  0\n",
              "                                       ... \n",
              "cand_dw_last_updated                      1\n",
              "cand_is_deleted                           1\n",
              "cand_last_updated                         1\n",
              "cand_version                              1\n",
              "cand_external_testing_certification    8154\n",
              "Length: 228, dtype: int64"
            ]
          },
          "metadata": {},
          "execution_count": 6
        }
      ]
    },
    {
      "cell_type": "markdown",
      "metadata": {
        "id": "23T5pcGb4Cun"
      },
      "source": [
        "### 2.2 <a name=\"22\">Select features to build the model</a> \n",
        "\n",
        "For a quick start, we recommend using only a few of the numerical features for both key_ and cand_ ASINs: __item_package_quantity__, __item_height__, __item_width__, __item_length__, __item_weight__, __pkg_height__, __pkg_width__, __pkg_length__, __pkg_weight__. Feel free to explore other fields from the metadata-dataset.xlsx file.\n"
      ]
    },
    {
      "cell_type": "code",
      "execution_count": 20,
      "metadata": {
        "id": "7_ICst2B4Cun"
      },
      "outputs": [],
      "source": [
        "# Implement here\n",
        "train_x=df_train[['key_item_height',\n",
        " 'key_item_length',\n",
        " 'key_item_package_quantity',\n",
        " 'key_item_weight',\n",
        " 'key_item_width','key_pkg_height',\n",
        " 'key_pkg_length',\n",
        " 'key_pkg_weight',\n",
        " 'key_pkg_width','cand_item_height',\n",
        " 'cand_item_length',\n",
        " 'cand_item_package_quantity',\n",
        " 'cand_item_weight',\n",
        " 'cand_item_width','cand_pkg_height',\n",
        " 'cand_pkg_length',\n",
        " 'cand_pkg_weight',\n",
        " 'cand_pkg_width']]\n",
        "train_y=df_train['label']"
      ]
    },
    {
      "cell_type": "code",
      "source": [
        "test_data=df_test[['key_item_height',\n",
        " 'key_item_length',\n",
        " 'key_item_package_quantity',\n",
        " 'key_item_weight',\n",
        " 'key_item_width','key_pkg_height',\n",
        " 'key_pkg_length',\n",
        " 'key_pkg_weight',\n",
        " 'key_pkg_width','cand_item_height',\n",
        " 'cand_item_length',\n",
        " 'cand_item_package_quantity',\n",
        " 'cand_item_weight',\n",
        " 'cand_item_width','cand_pkg_height',\n",
        " 'cand_pkg_length',\n",
        " 'cand_pkg_weight',\n",
        " 'cand_pkg_width']]"
      ],
      "metadata": {
        "id": "ExarEVq8otgu"
      },
      "execution_count": 56,
      "outputs": []
    },
    {
      "cell_type": "code",
      "source": [
        "train_x.head()"
      ],
      "metadata": {
        "colab": {
          "base_uri": "https://localhost:8080/",
          "height": 270
        },
        "id": "ZSVT5hmBfVoE",
        "outputId": "9f25aee2-8554-4a5c-9bbc-9a08850af843"
      },
      "execution_count": 21,
      "outputs": [
        {
          "output_type": "execute_result",
          "data": {
            "text/plain": [
              "   key_item_height  key_item_length  key_item_package_quantity  \\\n",
              "0             1.00            86.00                        1.0   \n",
              "1             2.00             2.50                        6.0   \n",
              "2             0.83             5.94                        1.0   \n",
              "3              NaN              NaN                        1.0   \n",
              "4             9.33             2.75                        1.0   \n",
              "\n",
              "   key_item_weight  key_item_width  key_pkg_height  key_pkg_length  \\\n",
              "0         6.000000           66.00            10.0            20.0   \n",
              "1              NaN            0.10             0.2             4.8   \n",
              "2         0.789375            2.24             2.1             7.2   \n",
              "3              NaN             NaN             NaN             NaN   \n",
              "4         0.438000            7.50             0.2             9.2   \n",
              "\n",
              "   key_pkg_weight  key_pkg_width  cand_item_height  cand_item_length  \\\n",
              "0        6.300000           15.0           0.00000           40.0000   \n",
              "1        0.022046            4.0           0.30000            6.7500   \n",
              "2        1.050000            4.6           0.86614            2.3622   \n",
              "3             NaN            NaN           2.36000           10.2400   \n",
              "4        0.250000            7.5           8.50000           11.7500   \n",
              "\n",
              "   cand_item_package_quantity  cand_item_weight  cand_item_width  \\\n",
              "0                         1.0          0.530000         18.00000   \n",
              "1                         1.0          0.110231          4.50000   \n",
              "2                         1.0          0.396832          3.62204   \n",
              "3                         1.0          3.480000         20.29000   \n",
              "4                         1.0               NaN          9.87500   \n",
              "\n",
              "   cand_pkg_height  cand_pkg_length  cand_pkg_weight  cand_pkg_width  \n",
              "0         1.574803        18.110236         0.529104        5.118110  \n",
              "1         0.300000         6.750000         0.100000        4.500000  \n",
              "2         2.007874         5.236220         0.654773        3.937008  \n",
              "3         2.401575        20.590551         3.549442       10.314961  \n",
              "4         1.102362         7.874016         0.396832        5.196850  "
            ],
            "text/html": [
              "\n",
              "  <div id=\"df-7c482803-869e-442b-a85d-1a405b63d3a8\">\n",
              "    <div class=\"colab-df-container\">\n",
              "      <div>\n",
              "<style scoped>\n",
              "    .dataframe tbody tr th:only-of-type {\n",
              "        vertical-align: middle;\n",
              "    }\n",
              "\n",
              "    .dataframe tbody tr th {\n",
              "        vertical-align: top;\n",
              "    }\n",
              "\n",
              "    .dataframe thead th {\n",
              "        text-align: right;\n",
              "    }\n",
              "</style>\n",
              "<table border=\"1\" class=\"dataframe\">\n",
              "  <thead>\n",
              "    <tr style=\"text-align: right;\">\n",
              "      <th></th>\n",
              "      <th>key_item_height</th>\n",
              "      <th>key_item_length</th>\n",
              "      <th>key_item_package_quantity</th>\n",
              "      <th>key_item_weight</th>\n",
              "      <th>key_item_width</th>\n",
              "      <th>key_pkg_height</th>\n",
              "      <th>key_pkg_length</th>\n",
              "      <th>key_pkg_weight</th>\n",
              "      <th>key_pkg_width</th>\n",
              "      <th>cand_item_height</th>\n",
              "      <th>cand_item_length</th>\n",
              "      <th>cand_item_package_quantity</th>\n",
              "      <th>cand_item_weight</th>\n",
              "      <th>cand_item_width</th>\n",
              "      <th>cand_pkg_height</th>\n",
              "      <th>cand_pkg_length</th>\n",
              "      <th>cand_pkg_weight</th>\n",
              "      <th>cand_pkg_width</th>\n",
              "    </tr>\n",
              "  </thead>\n",
              "  <tbody>\n",
              "    <tr>\n",
              "      <th>0</th>\n",
              "      <td>1.00</td>\n",
              "      <td>86.00</td>\n",
              "      <td>1.0</td>\n",
              "      <td>6.000000</td>\n",
              "      <td>66.00</td>\n",
              "      <td>10.0</td>\n",
              "      <td>20.0</td>\n",
              "      <td>6.300000</td>\n",
              "      <td>15.0</td>\n",
              "      <td>0.00000</td>\n",
              "      <td>40.0000</td>\n",
              "      <td>1.0</td>\n",
              "      <td>0.530000</td>\n",
              "      <td>18.00000</td>\n",
              "      <td>1.574803</td>\n",
              "      <td>18.110236</td>\n",
              "      <td>0.529104</td>\n",
              "      <td>5.118110</td>\n",
              "    </tr>\n",
              "    <tr>\n",
              "      <th>1</th>\n",
              "      <td>2.00</td>\n",
              "      <td>2.50</td>\n",
              "      <td>6.0</td>\n",
              "      <td>NaN</td>\n",
              "      <td>0.10</td>\n",
              "      <td>0.2</td>\n",
              "      <td>4.8</td>\n",
              "      <td>0.022046</td>\n",
              "      <td>4.0</td>\n",
              "      <td>0.30000</td>\n",
              "      <td>6.7500</td>\n",
              "      <td>1.0</td>\n",
              "      <td>0.110231</td>\n",
              "      <td>4.50000</td>\n",
              "      <td>0.300000</td>\n",
              "      <td>6.750000</td>\n",
              "      <td>0.100000</td>\n",
              "      <td>4.500000</td>\n",
              "    </tr>\n",
              "    <tr>\n",
              "      <th>2</th>\n",
              "      <td>0.83</td>\n",
              "      <td>5.94</td>\n",
              "      <td>1.0</td>\n",
              "      <td>0.789375</td>\n",
              "      <td>2.24</td>\n",
              "      <td>2.1</td>\n",
              "      <td>7.2</td>\n",
              "      <td>1.050000</td>\n",
              "      <td>4.6</td>\n",
              "      <td>0.86614</td>\n",
              "      <td>2.3622</td>\n",
              "      <td>1.0</td>\n",
              "      <td>0.396832</td>\n",
              "      <td>3.62204</td>\n",
              "      <td>2.007874</td>\n",
              "      <td>5.236220</td>\n",
              "      <td>0.654773</td>\n",
              "      <td>3.937008</td>\n",
              "    </tr>\n",
              "    <tr>\n",
              "      <th>3</th>\n",
              "      <td>NaN</td>\n",
              "      <td>NaN</td>\n",
              "      <td>1.0</td>\n",
              "      <td>NaN</td>\n",
              "      <td>NaN</td>\n",
              "      <td>NaN</td>\n",
              "      <td>NaN</td>\n",
              "      <td>NaN</td>\n",
              "      <td>NaN</td>\n",
              "      <td>2.36000</td>\n",
              "      <td>10.2400</td>\n",
              "      <td>1.0</td>\n",
              "      <td>3.480000</td>\n",
              "      <td>20.29000</td>\n",
              "      <td>2.401575</td>\n",
              "      <td>20.590551</td>\n",
              "      <td>3.549442</td>\n",
              "      <td>10.314961</td>\n",
              "    </tr>\n",
              "    <tr>\n",
              "      <th>4</th>\n",
              "      <td>9.33</td>\n",
              "      <td>2.75</td>\n",
              "      <td>1.0</td>\n",
              "      <td>0.438000</td>\n",
              "      <td>7.50</td>\n",
              "      <td>0.2</td>\n",
              "      <td>9.2</td>\n",
              "      <td>0.250000</td>\n",
              "      <td>7.5</td>\n",
              "      <td>8.50000</td>\n",
              "      <td>11.7500</td>\n",
              "      <td>1.0</td>\n",
              "      <td>NaN</td>\n",
              "      <td>9.87500</td>\n",
              "      <td>1.102362</td>\n",
              "      <td>7.874016</td>\n",
              "      <td>0.396832</td>\n",
              "      <td>5.196850</td>\n",
              "    </tr>\n",
              "  </tbody>\n",
              "</table>\n",
              "</div>\n",
              "      <button class=\"colab-df-convert\" onclick=\"convertToInteractive('df-7c482803-869e-442b-a85d-1a405b63d3a8')\"\n",
              "              title=\"Convert this dataframe to an interactive table.\"\n",
              "              style=\"display:none;\">\n",
              "        \n",
              "  <svg xmlns=\"http://www.w3.org/2000/svg\" height=\"24px\"viewBox=\"0 0 24 24\"\n",
              "       width=\"24px\">\n",
              "    <path d=\"M0 0h24v24H0V0z\" fill=\"none\"/>\n",
              "    <path d=\"M18.56 5.44l.94 2.06.94-2.06 2.06-.94-2.06-.94-.94-2.06-.94 2.06-2.06.94zm-11 1L8.5 8.5l.94-2.06 2.06-.94-2.06-.94L8.5 2.5l-.94 2.06-2.06.94zm10 10l.94 2.06.94-2.06 2.06-.94-2.06-.94-.94-2.06-.94 2.06-2.06.94z\"/><path d=\"M17.41 7.96l-1.37-1.37c-.4-.4-.92-.59-1.43-.59-.52 0-1.04.2-1.43.59L10.3 9.45l-7.72 7.72c-.78.78-.78 2.05 0 2.83L4 21.41c.39.39.9.59 1.41.59.51 0 1.02-.2 1.41-.59l7.78-7.78 2.81-2.81c.8-.78.8-2.07 0-2.86zM5.41 20L4 18.59l7.72-7.72 1.47 1.35L5.41 20z\"/>\n",
              "  </svg>\n",
              "      </button>\n",
              "      \n",
              "  <style>\n",
              "    .colab-df-container {\n",
              "      display:flex;\n",
              "      flex-wrap:wrap;\n",
              "      gap: 12px;\n",
              "    }\n",
              "\n",
              "    .colab-df-convert {\n",
              "      background-color: #E8F0FE;\n",
              "      border: none;\n",
              "      border-radius: 50%;\n",
              "      cursor: pointer;\n",
              "      display: none;\n",
              "      fill: #1967D2;\n",
              "      height: 32px;\n",
              "      padding: 0 0 0 0;\n",
              "      width: 32px;\n",
              "    }\n",
              "\n",
              "    .colab-df-convert:hover {\n",
              "      background-color: #E2EBFA;\n",
              "      box-shadow: 0px 1px 2px rgba(60, 64, 67, 0.3), 0px 1px 3px 1px rgba(60, 64, 67, 0.15);\n",
              "      fill: #174EA6;\n",
              "    }\n",
              "\n",
              "    [theme=dark] .colab-df-convert {\n",
              "      background-color: #3B4455;\n",
              "      fill: #D2E3FC;\n",
              "    }\n",
              "\n",
              "    [theme=dark] .colab-df-convert:hover {\n",
              "      background-color: #434B5C;\n",
              "      box-shadow: 0px 1px 3px 1px rgba(0, 0, 0, 0.15);\n",
              "      filter: drop-shadow(0px 1px 2px rgba(0, 0, 0, 0.3));\n",
              "      fill: #FFFFFF;\n",
              "    }\n",
              "  </style>\n",
              "\n",
              "      <script>\n",
              "        const buttonEl =\n",
              "          document.querySelector('#df-7c482803-869e-442b-a85d-1a405b63d3a8 button.colab-df-convert');\n",
              "        buttonEl.style.display =\n",
              "          google.colab.kernel.accessAllowed ? 'block' : 'none';\n",
              "\n",
              "        async function convertToInteractive(key) {\n",
              "          const element = document.querySelector('#df-7c482803-869e-442b-a85d-1a405b63d3a8');\n",
              "          const dataTable =\n",
              "            await google.colab.kernel.invokeFunction('convertToInteractive',\n",
              "                                                     [key], {});\n",
              "          if (!dataTable) return;\n",
              "\n",
              "          const docLinkHtml = 'Like what you see? Visit the ' +\n",
              "            '<a target=\"_blank\" href=https://colab.research.google.com/notebooks/data_table.ipynb>data table notebook</a>'\n",
              "            + ' to learn more about interactive tables.';\n",
              "          element.innerHTML = '';\n",
              "          dataTable['output_type'] = 'display_data';\n",
              "          await google.colab.output.renderOutput(dataTable, element);\n",
              "          const docLink = document.createElement('div');\n",
              "          docLink.innerHTML = docLinkHtml;\n",
              "          element.appendChild(docLink);\n",
              "        }\n",
              "      </script>\n",
              "    </div>\n",
              "  </div>\n",
              "  "
            ]
          },
          "metadata": {},
          "execution_count": 21
        }
      ]
    },
    {
      "cell_type": "code",
      "source": [
        "train_y"
      ],
      "metadata": {
        "colab": {
          "base_uri": "https://localhost:8080/"
        },
        "id": "RU5ENlc7ffan",
        "outputId": "3b7e2ead-2fdd-4ed6-f22b-b83ca5875100"
      },
      "execution_count": 22,
      "outputs": [
        {
          "output_type": "execute_result",
          "data": {
            "text/plain": [
              "0       0\n",
              "1       0\n",
              "2       1\n",
              "3       1\n",
              "4       1\n",
              "       ..\n",
              "8277    1\n",
              "8278    1\n",
              "8279    1\n",
              "8280    0\n",
              "8281    1\n",
              "Name: label, Length: 8282, dtype: int64"
            ]
          },
          "metadata": {},
          "execution_count": 22
        }
      ]
    },
    {
      "cell_type": "code",
      "source": [
        "train_x.isna().sum()"
      ],
      "metadata": {
        "colab": {
          "base_uri": "https://localhost:8080/"
        },
        "id": "63gUe-09iEcd",
        "outputId": "95d647cc-3125-4dc4-f159-671ec213cbe1"
      },
      "execution_count": 23,
      "outputs": [
        {
          "output_type": "execute_result",
          "data": {
            "text/plain": [
              "key_item_height               2299\n",
              "key_item_length               2299\n",
              "key_item_package_quantity      683\n",
              "key_item_weight               3172\n",
              "key_item_width                2299\n",
              "key_pkg_height                 775\n",
              "key_pkg_length                 775\n",
              "key_pkg_weight                 812\n",
              "key_pkg_width                  775\n",
              "cand_item_height              3395\n",
              "cand_item_length              3395\n",
              "cand_item_package_quantity    1174\n",
              "cand_item_weight              3988\n",
              "cand_item_width               3395\n",
              "cand_pkg_height               1684\n",
              "cand_pkg_length               1684\n",
              "cand_pkg_weight               1733\n",
              "cand_pkg_width                1685\n",
              "dtype: int64"
            ]
          },
          "metadata": {},
          "execution_count": 23
        }
      ]
    },
    {
      "cell_type": "code",
      "source": [
        "test_data.isna().sum()"
      ],
      "metadata": {
        "colab": {
          "base_uri": "https://localhost:8080/"
        },
        "id": "La120Xyfo5hy",
        "outputId": "19f5f4b8-afd2-406d-fd53-cf9f18942a15"
      },
      "execution_count": 57,
      "outputs": [
        {
          "output_type": "execute_result",
          "data": {
            "text/plain": [
              "key_item_height               2227\n",
              "key_item_length               2227\n",
              "key_item_package_quantity      644\n",
              "key_item_weight               3176\n",
              "key_item_width                2228\n",
              "key_pkg_height                 741\n",
              "key_pkg_length                 741\n",
              "key_pkg_weight                 788\n",
              "key_pkg_width                  741\n",
              "cand_item_height              3329\n",
              "cand_item_length              3329\n",
              "cand_item_package_quantity    1231\n",
              "cand_item_weight              3905\n",
              "cand_item_width               3329\n",
              "cand_pkg_height               1660\n",
              "cand_pkg_length               1660\n",
              "cand_pkg_weight               1722\n",
              "cand_pkg_width                1660\n",
              "dtype: int64"
            ]
          },
          "metadata": {},
          "execution_count": 57
        }
      ]
    },
    {
      "cell_type": "code",
      "source": [
        "from sklearn.impute import SimpleImputer\n",
        "imputer = SimpleImputer(strategy=\"mean\")\n",
        "train_data = imputer.fit_transform(train_x)"
      ],
      "metadata": {
        "id": "6OeohrK3h__T"
      },
      "execution_count": 24,
      "outputs": []
    },
    {
      "cell_type": "code",
      "source": [
        "testing_data=imputer.fit_transform(test_data)"
      ],
      "metadata": {
        "id": "QBf0bYlC2SEh"
      },
      "execution_count": 58,
      "outputs": []
    },
    {
      "cell_type": "code",
      "source": [
        "len(train_data)"
      ],
      "metadata": {
        "colab": {
          "base_uri": "https://localhost:8080/"
        },
        "id": "XDrbm7jgiS9U",
        "outputId": "40e4ddd5-e045-4ff4-e997-a7781eeed990"
      },
      "execution_count": 26,
      "outputs": [
        {
          "output_type": "execute_result",
          "data": {
            "text/plain": [
              "8282"
            ]
          },
          "metadata": {},
          "execution_count": 26
        }
      ]
    },
    {
      "cell_type": "code",
      "source": [
        "len(testing_data)"
      ],
      "metadata": {
        "colab": {
          "base_uri": "https://localhost:8080/"
        },
        "id": "UkuevsUn2d61",
        "outputId": "0dd86990-5f4b-4f6b-f31b-f5381963cd93"
      },
      "execution_count": 59,
      "outputs": [
        {
          "output_type": "execute_result",
          "data": {
            "text/plain": [
              "8291"
            ]
          },
          "metadata": {},
          "execution_count": 59
        }
      ]
    },
    {
      "cell_type": "markdown",
      "metadata": {
        "id": "MAod3ayh4Cuo"
      },
      "source": [
        "### 2.3 <a name=\"23\">Train - Validation Datasets</a>\n",
        "(<a href=\"#2\">Go to Data Processing</a>)\n",
        "\n",
        "We already have training and test datasets, however the test dataset is missing the labels - the goal of the project is to predict these labels.\n",
        "\n",
        "To produce a validation set to evaluate model performance before submitting  split the training dataset into train and validation. Validation data you get here will be used later in section 3 to tune your classifier."
      ]
    },
    {
      "cell_type": "code",
      "execution_count": 29,
      "metadata": {
        "id": "3V5aj4mW4Cuo"
      },
      "outputs": [],
      "source": [
        "# Implement here\n",
        "from sklearn.model_selection import train_test_split\n",
        "X_train, X_val, y_train, y_val = train_test_split(train_data, train_y, test_size=0.30, random_state=42)"
      ]
    },
    {
      "cell_type": "code",
      "source": [
        "y_train"
      ],
      "metadata": {
        "colab": {
          "base_uri": "https://localhost:8080/"
        },
        "id": "Lb8Dd9tsixNh",
        "outputId": "8c01c667-4a96-4ccf-bfd1-e72fe4a5941b"
      },
      "execution_count": 31,
      "outputs": [
        {
          "output_type": "execute_result",
          "data": {
            "text/plain": [
              "3550    1\n",
              "5927    0\n",
              "7287    0\n",
              "2328    0\n",
              "29      1\n",
              "       ..\n",
              "5734    0\n",
              "5191    0\n",
              "5390    0\n",
              "860     0\n",
              "7270    0\n",
              "Name: label, Length: 5797, dtype: int64"
            ]
          },
          "metadata": {},
          "execution_count": 31
        }
      ]
    },
    {
      "cell_type": "markdown",
      "metadata": {
        "id": "xW_8mZ4i4Cur"
      },
      "source": [
        "### 2.4 <a name=\"24\">Data processing with Pipeline</a>\n",
        "\n",
        "Build a [pipeline](https://scikit-learn.org/stable/modules/generated/sklearn.pipeline.Pipeline.html)  to impute the missing values and scale the numerical features, and finally train the classifier on the imputed and scaled dataset. \n"
      ]
    },
    {
      "cell_type": "code",
      "execution_count": 34,
      "metadata": {
        "id": "-faYi9dK4Cut",
        "colab": {
          "base_uri": "https://localhost:8080/",
          "height": 125
        },
        "outputId": "5c731576-ffad-438b-d3c3-ebb2f8a2f737"
      },
      "outputs": [
        {
          "output_type": "execute_result",
          "data": {
            "text/plain": [
              "Pipeline(steps=[('scaler', StandardScaler()),\n",
              "                ('RandomForestClassifier', RandomForestClassifier())])"
            ],
            "text/html": [
              "<style>#sk-container-id-2 {color: black;background-color: white;}#sk-container-id-2 pre{padding: 0;}#sk-container-id-2 div.sk-toggleable {background-color: white;}#sk-container-id-2 label.sk-toggleable__label {cursor: pointer;display: block;width: 100%;margin-bottom: 0;padding: 0.3em;box-sizing: border-box;text-align: center;}#sk-container-id-2 label.sk-toggleable__label-arrow:before {content: \"▸\";float: left;margin-right: 0.25em;color: #696969;}#sk-container-id-2 label.sk-toggleable__label-arrow:hover:before {color: black;}#sk-container-id-2 div.sk-estimator:hover label.sk-toggleable__label-arrow:before {color: black;}#sk-container-id-2 div.sk-toggleable__content {max-height: 0;max-width: 0;overflow: hidden;text-align: left;background-color: #f0f8ff;}#sk-container-id-2 div.sk-toggleable__content pre {margin: 0.2em;color: black;border-radius: 0.25em;background-color: #f0f8ff;}#sk-container-id-2 input.sk-toggleable__control:checked~div.sk-toggleable__content {max-height: 200px;max-width: 100%;overflow: auto;}#sk-container-id-2 input.sk-toggleable__control:checked~label.sk-toggleable__label-arrow:before {content: \"▾\";}#sk-container-id-2 div.sk-estimator input.sk-toggleable__control:checked~label.sk-toggleable__label {background-color: #d4ebff;}#sk-container-id-2 div.sk-label input.sk-toggleable__control:checked~label.sk-toggleable__label {background-color: #d4ebff;}#sk-container-id-2 input.sk-hidden--visually {border: 0;clip: rect(1px 1px 1px 1px);clip: rect(1px, 1px, 1px, 1px);height: 1px;margin: -1px;overflow: hidden;padding: 0;position: absolute;width: 1px;}#sk-container-id-2 div.sk-estimator {font-family: monospace;background-color: #f0f8ff;border: 1px dotted black;border-radius: 0.25em;box-sizing: border-box;margin-bottom: 0.5em;}#sk-container-id-2 div.sk-estimator:hover {background-color: #d4ebff;}#sk-container-id-2 div.sk-parallel-item::after {content: \"\";width: 100%;border-bottom: 1px solid gray;flex-grow: 1;}#sk-container-id-2 div.sk-label:hover label.sk-toggleable__label {background-color: #d4ebff;}#sk-container-id-2 div.sk-serial::before {content: \"\";position: absolute;border-left: 1px solid gray;box-sizing: border-box;top: 0;bottom: 0;left: 50%;z-index: 0;}#sk-container-id-2 div.sk-serial {display: flex;flex-direction: column;align-items: center;background-color: white;padding-right: 0.2em;padding-left: 0.2em;position: relative;}#sk-container-id-2 div.sk-item {position: relative;z-index: 1;}#sk-container-id-2 div.sk-parallel {display: flex;align-items: stretch;justify-content: center;background-color: white;position: relative;}#sk-container-id-2 div.sk-item::before, #sk-container-id-2 div.sk-parallel-item::before {content: \"\";position: absolute;border-left: 1px solid gray;box-sizing: border-box;top: 0;bottom: 0;left: 50%;z-index: -1;}#sk-container-id-2 div.sk-parallel-item {display: flex;flex-direction: column;z-index: 1;position: relative;background-color: white;}#sk-container-id-2 div.sk-parallel-item:first-child::after {align-self: flex-end;width: 50%;}#sk-container-id-2 div.sk-parallel-item:last-child::after {align-self: flex-start;width: 50%;}#sk-container-id-2 div.sk-parallel-item:only-child::after {width: 0;}#sk-container-id-2 div.sk-dashed-wrapped {border: 1px dashed gray;margin: 0 0.4em 0.5em 0.4em;box-sizing: border-box;padding-bottom: 0.4em;background-color: white;}#sk-container-id-2 div.sk-label label {font-family: monospace;font-weight: bold;display: inline-block;line-height: 1.2em;}#sk-container-id-2 div.sk-label-container {text-align: center;}#sk-container-id-2 div.sk-container {/* jupyter's `normalize.less` sets `[hidden] { display: none; }` but bootstrap.min.css set `[hidden] { display: none !important; }` so we also need the `!important` here to be able to override the default hidden behavior on the sphinx rendered scikit-learn.org. See: https://github.com/scikit-learn/scikit-learn/issues/21755 */display: inline-block !important;position: relative;}#sk-container-id-2 div.sk-text-repr-fallback {display: none;}</style><div id=\"sk-container-id-2\" class=\"sk-top-container\"><div class=\"sk-text-repr-fallback\"><pre>Pipeline(steps=[(&#x27;scaler&#x27;, StandardScaler()),\n",
              "                (&#x27;RandomForestClassifier&#x27;, RandomForestClassifier())])</pre><b>In a Jupyter environment, please rerun this cell to show the HTML representation or trust the notebook. <br />On GitHub, the HTML representation is unable to render, please try loading this page with nbviewer.org.</b></div><div class=\"sk-container\" hidden><div class=\"sk-item sk-dashed-wrapped\"><div class=\"sk-label-container\"><div class=\"sk-label sk-toggleable\"><input class=\"sk-toggleable__control sk-hidden--visually\" id=\"sk-estimator-id-4\" type=\"checkbox\" ><label for=\"sk-estimator-id-4\" class=\"sk-toggleable__label sk-toggleable__label-arrow\">Pipeline</label><div class=\"sk-toggleable__content\"><pre>Pipeline(steps=[(&#x27;scaler&#x27;, StandardScaler()),\n",
              "                (&#x27;RandomForestClassifier&#x27;, RandomForestClassifier())])</pre></div></div></div><div class=\"sk-serial\"><div class=\"sk-item\"><div class=\"sk-estimator sk-toggleable\"><input class=\"sk-toggleable__control sk-hidden--visually\" id=\"sk-estimator-id-5\" type=\"checkbox\" ><label for=\"sk-estimator-id-5\" class=\"sk-toggleable__label sk-toggleable__label-arrow\">StandardScaler</label><div class=\"sk-toggleable__content\"><pre>StandardScaler()</pre></div></div></div><div class=\"sk-item\"><div class=\"sk-estimator sk-toggleable\"><input class=\"sk-toggleable__control sk-hidden--visually\" id=\"sk-estimator-id-6\" type=\"checkbox\" ><label for=\"sk-estimator-id-6\" class=\"sk-toggleable__label sk-toggleable__label-arrow\">RandomForestClassifier</label><div class=\"sk-toggleable__content\"><pre>RandomForestClassifier()</pre></div></div></div></div></div></div></div>"
            ]
          },
          "metadata": {},
          "execution_count": 34
        }
      ],
      "source": [
        "# Implement here\n",
        "from sklearn.ensemble import RandomForestClassifier\n",
        "from sklearn.preprocessing import StandardScaler\n",
        "from sklearn.model_selection import train_test_split\n",
        "from sklearn.pipeline import Pipeline\n",
        "pipe = Pipeline([('scaler', StandardScaler()), ('RandomForestClassifier', RandomForestClassifier())])\n",
        "pipe.fit(X_train, y_train)\n"
      ]
    },
    {
      "cell_type": "code",
      "source": [
        "Pipeline(steps=[('scaler', StandardScaler()), ('RandomForestClassifier', RandomForestClassifier())])\n",
        "print('Training score-',pipe.score(X_train, y_train))\n",
        "print('Validation score-',pipe.score(X_val, y_val))"
      ],
      "metadata": {
        "colab": {
          "base_uri": "https://localhost:8080/"
        },
        "id": "FB9vvOUMkx2n",
        "outputId": "f65709a1-e017-4b41-b210-7e554584c8e8"
      },
      "execution_count": 37,
      "outputs": [
        {
          "output_type": "stream",
          "name": "stdout",
          "text": [
            "Training score- 0.9799896498188718\n",
            "Validation score- 0.6016096579476862\n"
          ]
        }
      ]
    },
    {
      "cell_type": "markdown",
      "metadata": {
        "id": "KZ49qrqB4Cut"
      },
      "source": [
        "## 3. <a name=\"3\">Train (and Tune) a Classifier</a> (Implement)\n",
        "(<a href=\"#0\">Go to top</a>)\n",
        "\n",
        "Train and tune the classifier"
      ]
    },
    {
      "cell_type": "code",
      "execution_count": 45,
      "metadata": {
        "id": "Bzziwob54Cuu",
        "colab": {
          "base_uri": "https://localhost:8080/"
        },
        "outputId": "71f62b2a-1c22-422c-8ecb-4ec2656573f6"
      },
      "outputs": [
        {
          "output_type": "stream",
          "name": "stdout",
          "text": [
            "{'n_estimators': [200, 600, 1000], 'max_features': ['auto', 'sqrt'], 'max_depth': [10, 19, 28, 37, 46, 55, 64, 73, 82, 91, 100, None], 'min_samples_split': [2, 5, 10], 'min_samples_leaf': [1, 2, 4], 'bootstrap': [True, False]}\n"
          ]
        }
      ],
      "source": [
        "# Implement here\n",
        "import numpy as np\n",
        "from sklearn.model_selection import RandomizedSearchCV\n",
        "# Number of trees in random forest\n",
        "n_estimators = [int(x) for x in np.linspace(start = 200, stop = 1000, num = 3)]\n",
        "# Number of features to consider at every split\n",
        "max_features = ['auto', 'sqrt']\n",
        "# Maximum number of levels in tree\n",
        "max_depth = [int(x) for x in np.linspace(10, 100, num = 11)]\n",
        "max_depth.append(None)\n",
        "# Minimum number of samples required to split a node\n",
        "min_samples_split = [2, 5, 10]\n",
        "# Minimum number of samples required at each leaf node\n",
        "min_samples_leaf = [1, 2, 4]\n",
        "# Method of selecting samples for training each tree\n",
        "bootstrap = [True, False]\n",
        "# Create the random grid\n",
        "random_grid = {'n_estimators': n_estimators,\n",
        "               'max_features': max_features,\n",
        "               'max_depth': max_depth,\n",
        "               'min_samples_split': min_samples_split,\n",
        "               'min_samples_leaf': min_samples_leaf,\n",
        "               'bootstrap': bootstrap}\n",
        "print(random_grid)"
      ]
    },
    {
      "cell_type": "code",
      "source": [
        "# base model to tune\n",
        "rf = RandomForestClassifier()\n",
        "# Random search of parameters, using 3 fold cross validation, \n",
        "# search across 100 different combinations, and use all available cores\n",
        "rf_random = RandomizedSearchCV(estimator = rf, param_distributions = random_grid, n_iter = 50, cv = 3, verbose=2, random_state=42, n_jobs = -1)\n",
        "# Fit the random search model\n",
        "rf_random.fit(X_val, y_val)"
      ],
      "metadata": {
        "colab": {
          "base_uri": "https://localhost:8080/",
          "height": 189
        },
        "id": "eRkHgZP2m9GZ",
        "outputId": "771ebf08-9178-4a19-8401-1c2c5e9988db"
      },
      "execution_count": 46,
      "outputs": [
        {
          "output_type": "stream",
          "name": "stdout",
          "text": [
            "Fitting 3 folds for each of 50 candidates, totalling 150 fits\n"
          ]
        },
        {
          "output_type": "stream",
          "name": "stderr",
          "text": [
            "/usr/local/lib/python3.9/dist-packages/sklearn/ensemble/_forest.py:424: FutureWarning: `max_features='auto'` has been deprecated in 1.1 and will be removed in 1.3. To keep the past behaviour, explicitly set `max_features='sqrt'` or remove this parameter as it is also the default value for RandomForestClassifiers and ExtraTreesClassifiers.\n",
            "  warn(\n"
          ]
        },
        {
          "output_type": "execute_result",
          "data": {
            "text/plain": [
              "RandomizedSearchCV(cv=3, estimator=RandomForestClassifier(), n_iter=50,\n",
              "                   n_jobs=-1,\n",
              "                   param_distributions={'bootstrap': [True, False],\n",
              "                                        'max_depth': [10, 19, 28, 37, 46, 55,\n",
              "                                                      64, 73, 82, 91, 100,\n",
              "                                                      None],\n",
              "                                        'max_features': ['auto', 'sqrt'],\n",
              "                                        'min_samples_leaf': [1, 2, 4],\n",
              "                                        'min_samples_split': [2, 5, 10],\n",
              "                                        'n_estimators': [200, 600, 1000]},\n",
              "                   random_state=42, verbose=2)"
            ],
            "text/html": [
              "<style>#sk-container-id-3 {color: black;background-color: white;}#sk-container-id-3 pre{padding: 0;}#sk-container-id-3 div.sk-toggleable {background-color: white;}#sk-container-id-3 label.sk-toggleable__label {cursor: pointer;display: block;width: 100%;margin-bottom: 0;padding: 0.3em;box-sizing: border-box;text-align: center;}#sk-container-id-3 label.sk-toggleable__label-arrow:before {content: \"▸\";float: left;margin-right: 0.25em;color: #696969;}#sk-container-id-3 label.sk-toggleable__label-arrow:hover:before {color: black;}#sk-container-id-3 div.sk-estimator:hover label.sk-toggleable__label-arrow:before {color: black;}#sk-container-id-3 div.sk-toggleable__content {max-height: 0;max-width: 0;overflow: hidden;text-align: left;background-color: #f0f8ff;}#sk-container-id-3 div.sk-toggleable__content pre {margin: 0.2em;color: black;border-radius: 0.25em;background-color: #f0f8ff;}#sk-container-id-3 input.sk-toggleable__control:checked~div.sk-toggleable__content {max-height: 200px;max-width: 100%;overflow: auto;}#sk-container-id-3 input.sk-toggleable__control:checked~label.sk-toggleable__label-arrow:before {content: \"▾\";}#sk-container-id-3 div.sk-estimator input.sk-toggleable__control:checked~label.sk-toggleable__label {background-color: #d4ebff;}#sk-container-id-3 div.sk-label input.sk-toggleable__control:checked~label.sk-toggleable__label {background-color: #d4ebff;}#sk-container-id-3 input.sk-hidden--visually {border: 0;clip: rect(1px 1px 1px 1px);clip: rect(1px, 1px, 1px, 1px);height: 1px;margin: -1px;overflow: hidden;padding: 0;position: absolute;width: 1px;}#sk-container-id-3 div.sk-estimator {font-family: monospace;background-color: #f0f8ff;border: 1px dotted black;border-radius: 0.25em;box-sizing: border-box;margin-bottom: 0.5em;}#sk-container-id-3 div.sk-estimator:hover {background-color: #d4ebff;}#sk-container-id-3 div.sk-parallel-item::after {content: \"\";width: 100%;border-bottom: 1px solid gray;flex-grow: 1;}#sk-container-id-3 div.sk-label:hover label.sk-toggleable__label {background-color: #d4ebff;}#sk-container-id-3 div.sk-serial::before {content: \"\";position: absolute;border-left: 1px solid gray;box-sizing: border-box;top: 0;bottom: 0;left: 50%;z-index: 0;}#sk-container-id-3 div.sk-serial {display: flex;flex-direction: column;align-items: center;background-color: white;padding-right: 0.2em;padding-left: 0.2em;position: relative;}#sk-container-id-3 div.sk-item {position: relative;z-index: 1;}#sk-container-id-3 div.sk-parallel {display: flex;align-items: stretch;justify-content: center;background-color: white;position: relative;}#sk-container-id-3 div.sk-item::before, #sk-container-id-3 div.sk-parallel-item::before {content: \"\";position: absolute;border-left: 1px solid gray;box-sizing: border-box;top: 0;bottom: 0;left: 50%;z-index: -1;}#sk-container-id-3 div.sk-parallel-item {display: flex;flex-direction: column;z-index: 1;position: relative;background-color: white;}#sk-container-id-3 div.sk-parallel-item:first-child::after {align-self: flex-end;width: 50%;}#sk-container-id-3 div.sk-parallel-item:last-child::after {align-self: flex-start;width: 50%;}#sk-container-id-3 div.sk-parallel-item:only-child::after {width: 0;}#sk-container-id-3 div.sk-dashed-wrapped {border: 1px dashed gray;margin: 0 0.4em 0.5em 0.4em;box-sizing: border-box;padding-bottom: 0.4em;background-color: white;}#sk-container-id-3 div.sk-label label {font-family: monospace;font-weight: bold;display: inline-block;line-height: 1.2em;}#sk-container-id-3 div.sk-label-container {text-align: center;}#sk-container-id-3 div.sk-container {/* jupyter's `normalize.less` sets `[hidden] { display: none; }` but bootstrap.min.css set `[hidden] { display: none !important; }` so we also need the `!important` here to be able to override the default hidden behavior on the sphinx rendered scikit-learn.org. See: https://github.com/scikit-learn/scikit-learn/issues/21755 */display: inline-block !important;position: relative;}#sk-container-id-3 div.sk-text-repr-fallback {display: none;}</style><div id=\"sk-container-id-3\" class=\"sk-top-container\"><div class=\"sk-text-repr-fallback\"><pre>RandomizedSearchCV(cv=3, estimator=RandomForestClassifier(), n_iter=50,\n",
              "                   n_jobs=-1,\n",
              "                   param_distributions={&#x27;bootstrap&#x27;: [True, False],\n",
              "                                        &#x27;max_depth&#x27;: [10, 19, 28, 37, 46, 55,\n",
              "                                                      64, 73, 82, 91, 100,\n",
              "                                                      None],\n",
              "                                        &#x27;max_features&#x27;: [&#x27;auto&#x27;, &#x27;sqrt&#x27;],\n",
              "                                        &#x27;min_samples_leaf&#x27;: [1, 2, 4],\n",
              "                                        &#x27;min_samples_split&#x27;: [2, 5, 10],\n",
              "                                        &#x27;n_estimators&#x27;: [200, 600, 1000]},\n",
              "                   random_state=42, verbose=2)</pre><b>In a Jupyter environment, please rerun this cell to show the HTML representation or trust the notebook. <br />On GitHub, the HTML representation is unable to render, please try loading this page with nbviewer.org.</b></div><div class=\"sk-container\" hidden><div class=\"sk-item sk-dashed-wrapped\"><div class=\"sk-label-container\"><div class=\"sk-label sk-toggleable\"><input class=\"sk-toggleable__control sk-hidden--visually\" id=\"sk-estimator-id-7\" type=\"checkbox\" ><label for=\"sk-estimator-id-7\" class=\"sk-toggleable__label sk-toggleable__label-arrow\">RandomizedSearchCV</label><div class=\"sk-toggleable__content\"><pre>RandomizedSearchCV(cv=3, estimator=RandomForestClassifier(), n_iter=50,\n",
              "                   n_jobs=-1,\n",
              "                   param_distributions={&#x27;bootstrap&#x27;: [True, False],\n",
              "                                        &#x27;max_depth&#x27;: [10, 19, 28, 37, 46, 55,\n",
              "                                                      64, 73, 82, 91, 100,\n",
              "                                                      None],\n",
              "                                        &#x27;max_features&#x27;: [&#x27;auto&#x27;, &#x27;sqrt&#x27;],\n",
              "                                        &#x27;min_samples_leaf&#x27;: [1, 2, 4],\n",
              "                                        &#x27;min_samples_split&#x27;: [2, 5, 10],\n",
              "                                        &#x27;n_estimators&#x27;: [200, 600, 1000]},\n",
              "                   random_state=42, verbose=2)</pre></div></div></div><div class=\"sk-parallel\"><div class=\"sk-parallel-item\"><div class=\"sk-item\"><div class=\"sk-label-container\"><div class=\"sk-label sk-toggleable\"><input class=\"sk-toggleable__control sk-hidden--visually\" id=\"sk-estimator-id-8\" type=\"checkbox\" ><label for=\"sk-estimator-id-8\" class=\"sk-toggleable__label sk-toggleable__label-arrow\">estimator: RandomForestClassifier</label><div class=\"sk-toggleable__content\"><pre>RandomForestClassifier()</pre></div></div></div><div class=\"sk-serial\"><div class=\"sk-item\"><div class=\"sk-estimator sk-toggleable\"><input class=\"sk-toggleable__control sk-hidden--visually\" id=\"sk-estimator-id-9\" type=\"checkbox\" ><label for=\"sk-estimator-id-9\" class=\"sk-toggleable__label sk-toggleable__label-arrow\">RandomForestClassifier</label><div class=\"sk-toggleable__content\"><pre>RandomForestClassifier()</pre></div></div></div></div></div></div></div></div></div></div>"
            ]
          },
          "metadata": {},
          "execution_count": 46
        }
      ]
    },
    {
      "cell_type": "code",
      "source": [
        "rf_random.best_params_"
      ],
      "metadata": {
        "colab": {
          "base_uri": "https://localhost:8080/"
        },
        "id": "MTCb6pR1nXsI",
        "outputId": "1b44376c-e505-4b07-c724-449b000de8d7"
      },
      "execution_count": 47,
      "outputs": [
        {
          "output_type": "execute_result",
          "data": {
            "text/plain": [
              "{'n_estimators': 600,\n",
              " 'min_samples_split': 5,\n",
              " 'min_samples_leaf': 4,\n",
              " 'max_features': 'auto',\n",
              " 'max_depth': 19,\n",
              " 'bootstrap': True}"
            ]
          },
          "metadata": {},
          "execution_count": 47
        }
      ]
    },
    {
      "cell_type": "code",
      "source": [
        "model=RandomForestClassifier(n_estimators=600,\n",
        " min_samples_split= 5,\n",
        " min_samples_leaf= 4,\n",
        " max_features='auto',\n",
        " max_depth=19,\n",
        " bootstrap= True)\n",
        "model.fit(X_train, y_train)"
      ],
      "metadata": {
        "colab": {
          "base_uri": "https://localhost:8080/",
          "height": 146
        },
        "id": "KHiShPdynt1d",
        "outputId": "04f0e4cc-b8f2-4de6-f77b-552099b523d1"
      },
      "execution_count": 52,
      "outputs": [
        {
          "output_type": "stream",
          "name": "stderr",
          "text": [
            "/usr/local/lib/python3.9/dist-packages/sklearn/ensemble/_forest.py:424: FutureWarning: `max_features='auto'` has been deprecated in 1.1 and will be removed in 1.3. To keep the past behaviour, explicitly set `max_features='sqrt'` or remove this parameter as it is also the default value for RandomForestClassifiers and ExtraTreesClassifiers.\n",
            "  warn(\n"
          ]
        },
        {
          "output_type": "execute_result",
          "data": {
            "text/plain": [
              "RandomForestClassifier(max_depth=19, max_features='auto', min_samples_leaf=4,\n",
              "                       min_samples_split=5, n_estimators=600)"
            ],
            "text/html": [
              "<style>#sk-container-id-4 {color: black;background-color: white;}#sk-container-id-4 pre{padding: 0;}#sk-container-id-4 div.sk-toggleable {background-color: white;}#sk-container-id-4 label.sk-toggleable__label {cursor: pointer;display: block;width: 100%;margin-bottom: 0;padding: 0.3em;box-sizing: border-box;text-align: center;}#sk-container-id-4 label.sk-toggleable__label-arrow:before {content: \"▸\";float: left;margin-right: 0.25em;color: #696969;}#sk-container-id-4 label.sk-toggleable__label-arrow:hover:before {color: black;}#sk-container-id-4 div.sk-estimator:hover label.sk-toggleable__label-arrow:before {color: black;}#sk-container-id-4 div.sk-toggleable__content {max-height: 0;max-width: 0;overflow: hidden;text-align: left;background-color: #f0f8ff;}#sk-container-id-4 div.sk-toggleable__content pre {margin: 0.2em;color: black;border-radius: 0.25em;background-color: #f0f8ff;}#sk-container-id-4 input.sk-toggleable__control:checked~div.sk-toggleable__content {max-height: 200px;max-width: 100%;overflow: auto;}#sk-container-id-4 input.sk-toggleable__control:checked~label.sk-toggleable__label-arrow:before {content: \"▾\";}#sk-container-id-4 div.sk-estimator input.sk-toggleable__control:checked~label.sk-toggleable__label {background-color: #d4ebff;}#sk-container-id-4 div.sk-label input.sk-toggleable__control:checked~label.sk-toggleable__label {background-color: #d4ebff;}#sk-container-id-4 input.sk-hidden--visually {border: 0;clip: rect(1px 1px 1px 1px);clip: rect(1px, 1px, 1px, 1px);height: 1px;margin: -1px;overflow: hidden;padding: 0;position: absolute;width: 1px;}#sk-container-id-4 div.sk-estimator {font-family: monospace;background-color: #f0f8ff;border: 1px dotted black;border-radius: 0.25em;box-sizing: border-box;margin-bottom: 0.5em;}#sk-container-id-4 div.sk-estimator:hover {background-color: #d4ebff;}#sk-container-id-4 div.sk-parallel-item::after {content: \"\";width: 100%;border-bottom: 1px solid gray;flex-grow: 1;}#sk-container-id-4 div.sk-label:hover label.sk-toggleable__label {background-color: #d4ebff;}#sk-container-id-4 div.sk-serial::before {content: \"\";position: absolute;border-left: 1px solid gray;box-sizing: border-box;top: 0;bottom: 0;left: 50%;z-index: 0;}#sk-container-id-4 div.sk-serial {display: flex;flex-direction: column;align-items: center;background-color: white;padding-right: 0.2em;padding-left: 0.2em;position: relative;}#sk-container-id-4 div.sk-item {position: relative;z-index: 1;}#sk-container-id-4 div.sk-parallel {display: flex;align-items: stretch;justify-content: center;background-color: white;position: relative;}#sk-container-id-4 div.sk-item::before, #sk-container-id-4 div.sk-parallel-item::before {content: \"\";position: absolute;border-left: 1px solid gray;box-sizing: border-box;top: 0;bottom: 0;left: 50%;z-index: -1;}#sk-container-id-4 div.sk-parallel-item {display: flex;flex-direction: column;z-index: 1;position: relative;background-color: white;}#sk-container-id-4 div.sk-parallel-item:first-child::after {align-self: flex-end;width: 50%;}#sk-container-id-4 div.sk-parallel-item:last-child::after {align-self: flex-start;width: 50%;}#sk-container-id-4 div.sk-parallel-item:only-child::after {width: 0;}#sk-container-id-4 div.sk-dashed-wrapped {border: 1px dashed gray;margin: 0 0.4em 0.5em 0.4em;box-sizing: border-box;padding-bottom: 0.4em;background-color: white;}#sk-container-id-4 div.sk-label label {font-family: monospace;font-weight: bold;display: inline-block;line-height: 1.2em;}#sk-container-id-4 div.sk-label-container {text-align: center;}#sk-container-id-4 div.sk-container {/* jupyter's `normalize.less` sets `[hidden] { display: none; }` but bootstrap.min.css set `[hidden] { display: none !important; }` so we also need the `!important` here to be able to override the default hidden behavior on the sphinx rendered scikit-learn.org. See: https://github.com/scikit-learn/scikit-learn/issues/21755 */display: inline-block !important;position: relative;}#sk-container-id-4 div.sk-text-repr-fallback {display: none;}</style><div id=\"sk-container-id-4\" class=\"sk-top-container\"><div class=\"sk-text-repr-fallback\"><pre>RandomForestClassifier(max_depth=19, max_features=&#x27;auto&#x27;, min_samples_leaf=4,\n",
              "                       min_samples_split=5, n_estimators=600)</pre><b>In a Jupyter environment, please rerun this cell to show the HTML representation or trust the notebook. <br />On GitHub, the HTML representation is unable to render, please try loading this page with nbviewer.org.</b></div><div class=\"sk-container\" hidden><div class=\"sk-item\"><div class=\"sk-estimator sk-toggleable\"><input class=\"sk-toggleable__control sk-hidden--visually\" id=\"sk-estimator-id-10\" type=\"checkbox\" checked><label for=\"sk-estimator-id-10\" class=\"sk-toggleable__label sk-toggleable__label-arrow\">RandomForestClassifier</label><div class=\"sk-toggleable__content\"><pre>RandomForestClassifier(max_depth=19, max_features=&#x27;auto&#x27;, min_samples_leaf=4,\n",
              "                       min_samples_split=5, n_estimators=600)</pre></div></div></div></div></div>"
            ]
          },
          "metadata": {},
          "execution_count": 52
        }
      ]
    },
    {
      "cell_type": "code",
      "source": [
        "from sklearn.metrics import accuracy_score\n",
        "train_accuracy=accuracy_score(y_train,model.predict(X_train))\n",
        "val_accuracy=accuracy_score(y_val,model.predict(X_val))"
      ],
      "metadata": {
        "id": "u-OUekVAnuA5"
      },
      "execution_count": 54,
      "outputs": []
    },
    {
      "cell_type": "code",
      "source": [
        "print('Train accuracy-',train_accuracy)\n",
        "print('Validation accuracy-',val_accuracy)"
      ],
      "metadata": {
        "colab": {
          "base_uri": "https://localhost:8080/"
        },
        "id": "X-1FX71DnX55",
        "outputId": "1fdf615d-f732-4c1c-a58c-9d71eb4fe930"
      },
      "execution_count": 55,
      "outputs": [
        {
          "output_type": "stream",
          "name": "stdout",
          "text": [
            "Train accuracy- 0.9341038468173193\n",
            "Validation accuracy- 0.606841046277666\n"
          ]
        }
      ]
    },
    {
      "cell_type": "markdown",
      "metadata": {
        "id": "cl2smdli4Cuu"
      },
      "source": [
        "## 4. <a name=\"4\">Make Predictions on the Test Dataset</a> (Implement)\n",
        "(<a href=\"#0\">Go to top</a>)\n",
        "\n",
        "Use the trained classifier to predict the labels on the test set. Test accuracy would be displayed upon a valid submission to the leaderboard."
      ]
    },
    {
      "cell_type": "code",
      "execution_count": 64,
      "metadata": {
        "id": "Tt4JEQoC4Cuu"
      },
      "outputs": [],
      "source": [
        "# Implement here\n",
        "\n",
        "# Get test data to test the classifier\n",
        "# ! test data should come from public_test_features.csv !\n",
        "# ...\n",
        "test_pred=model.predict(testing_data)\n",
        "# Use the trained model to make predictions on the test dataset\n",
        "# test_predictions = ...\n"
      ]
    },
    {
      "cell_type": "code",
      "source": [
        "test_pred"
      ],
      "metadata": {
        "colab": {
          "base_uri": "https://localhost:8080/"
        },
        "id": "IM_7MGBA3StN",
        "outputId": "5a498fa0-5668-448d-a512-82b1e9444e95"
      },
      "execution_count": 65,
      "outputs": [
        {
          "output_type": "execute_result",
          "data": {
            "text/plain": [
              "array([1, 0, 0, ..., 1, 0, 0])"
            ]
          },
          "metadata": {},
          "execution_count": 65
        }
      ]
    },
    {
      "cell_type": "code",
      "source": [
        "len(test_pred)"
      ],
      "metadata": {
        "colab": {
          "base_uri": "https://localhost:8080/"
        },
        "id": "o_-0cCGG3eFi",
        "outputId": "179ac9c5-9b63-420c-b56c-32b4ce34f781"
      },
      "execution_count": 66,
      "outputs": [
        {
          "output_type": "execute_result",
          "data": {
            "text/plain": [
              "8291"
            ]
          },
          "metadata": {},
          "execution_count": 66
        }
      ]
    }
  ],
  "metadata": {
    "kernelspec": {
      "display_name": "conda_pytorch_p39",
      "language": "python",
      "name": "conda_pytorch_p39"
    },
    "language_info": {
      "codemirror_mode": {
        "name": "ipython",
        "version": 3
      },
      "file_extension": ".py",
      "mimetype": "text/x-python",
      "name": "python",
      "nbconvert_exporter": "python",
      "pygments_lexer": "ipython3",
      "version": "3.9.13"
    },
    "colab": {
      "provenance": [],
      "include_colab_link": true
    }
  },
  "nbformat": 4,
  "nbformat_minor": 0
}